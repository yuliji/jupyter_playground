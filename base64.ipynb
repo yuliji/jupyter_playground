{
 "cells": [
  {
   "cell_type": "markdown",
   "metadata": {},
   "source": [
    "# Base64"
   ]
  },
  {
   "cell_type": "markdown",
   "metadata": {},
   "source": [
    "Base 64 represent every 6bit of binary data with a character."
   ]
  },
  {
   "cell_type": "code",
   "execution_count": 1,
   "metadata": {
    "collapsed": true
   },
   "outputs": [],
   "source": [
    "base64chars = list(\"ABCDEFGHIJKLMNOPQRSTUVWXYZabcdefghijklmnopqrstuvwxyz01234567890+/\")"
   ]
  },
  {
   "cell_type": "code",
   "execution_count": 2,
   "metadata": {
    "collapsed": false
   },
   "outputs": [],
   "source": [
    "i = 0\n",
    "base64char_table = []\n",
    "while i < 65:\n",
    "    base64char_table.append([i,\"0o%03o\" % i, \"0b{:06b}\".format(i), base64chars[i]])\n",
    "    i += 1"
   ]
  },
  {
   "cell_type": "code",
   "execution_count": 3,
   "metadata": {
    "collapsed": false
   },
   "outputs": [
    {
     "data": {
      "text/plain": [
       "[[0, '0o000', '0b000000', 'A'],\n",
       " [1, '0o001', '0b000001', 'B'],\n",
       " [2, '0o002', '0b000010', 'C'],\n",
       " [3, '0o003', '0b000011', 'D'],\n",
       " [4, '0o004', '0b000100', 'E'],\n",
       " [5, '0o005', '0b000101', 'F'],\n",
       " [6, '0o006', '0b000110', 'G'],\n",
       " [7, '0o007', '0b000111', 'H'],\n",
       " [8, '0o010', '0b001000', 'I'],\n",
       " [9, '0o011', '0b001001', 'J'],\n",
       " [10, '0o012', '0b001010', 'K'],\n",
       " [11, '0o013', '0b001011', 'L'],\n",
       " [12, '0o014', '0b001100', 'M'],\n",
       " [13, '0o015', '0b001101', 'N'],\n",
       " [14, '0o016', '0b001110', 'O'],\n",
       " [15, '0o017', '0b001111', 'P'],\n",
       " [16, '0o020', '0b010000', 'Q'],\n",
       " [17, '0o021', '0b010001', 'R'],\n",
       " [18, '0o022', '0b010010', 'S'],\n",
       " [19, '0o023', '0b010011', 'T'],\n",
       " [20, '0o024', '0b010100', 'U'],\n",
       " [21, '0o025', '0b010101', 'V'],\n",
       " [22, '0o026', '0b010110', 'W'],\n",
       " [23, '0o027', '0b010111', 'X'],\n",
       " [24, '0o030', '0b011000', 'Y'],\n",
       " [25, '0o031', '0b011001', 'Z'],\n",
       " [26, '0o032', '0b011010', 'a'],\n",
       " [27, '0o033', '0b011011', 'b'],\n",
       " [28, '0o034', '0b011100', 'c'],\n",
       " [29, '0o035', '0b011101', 'd'],\n",
       " [30, '0o036', '0b011110', 'e'],\n",
       " [31, '0o037', '0b011111', 'f'],\n",
       " [32, '0o040', '0b100000', 'g'],\n",
       " [33, '0o041', '0b100001', 'h'],\n",
       " [34, '0o042', '0b100010', 'i'],\n",
       " [35, '0o043', '0b100011', 'j'],\n",
       " [36, '0o044', '0b100100', 'k'],\n",
       " [37, '0o045', '0b100101', 'l'],\n",
       " [38, '0o046', '0b100110', 'm'],\n",
       " [39, '0o047', '0b100111', 'n'],\n",
       " [40, '0o050', '0b101000', 'o'],\n",
       " [41, '0o051', '0b101001', 'p'],\n",
       " [42, '0o052', '0b101010', 'q'],\n",
       " [43, '0o053', '0b101011', 'r'],\n",
       " [44, '0o054', '0b101100', 's'],\n",
       " [45, '0o055', '0b101101', 't'],\n",
       " [46, '0o056', '0b101110', 'u'],\n",
       " [47, '0o057', '0b101111', 'v'],\n",
       " [48, '0o060', '0b110000', 'w'],\n",
       " [49, '0o061', '0b110001', 'x'],\n",
       " [50, '0o062', '0b110010', 'y'],\n",
       " [51, '0o063', '0b110011', 'z'],\n",
       " [52, '0o064', '0b110100', '0'],\n",
       " [53, '0o065', '0b110101', '1'],\n",
       " [54, '0o066', '0b110110', '2'],\n",
       " [55, '0o067', '0b110111', '3'],\n",
       " [56, '0o070', '0b111000', '4'],\n",
       " [57, '0o071', '0b111001', '5'],\n",
       " [58, '0o072', '0b111010', '6'],\n",
       " [59, '0o073', '0b111011', '7'],\n",
       " [60, '0o074', '0b111100', '8'],\n",
       " [61, '0o075', '0b111101', '9'],\n",
       " [62, '0o076', '0b111110', '0'],\n",
       " [63, '0o077', '0b111111', '+'],\n",
       " [64, '0o100', '0b1000000', '/']]"
      ]
     },
     "execution_count": 3,
     "metadata": {},
     "output_type": "execute_result"
    }
   ],
   "source": [
    "base64char_table  # oct, binary to charactor"
   ]
  },
  {
   "cell_type": "markdown",
   "metadata": {},
   "source": [
    "Now we have a payload. Note that each ASCII charactor contains a 8-digits binary number."
   ]
  },
  {
   "cell_type": "code",
   "execution_count": 4,
   "metadata": {
    "collapsed": true
   },
   "outputs": [],
   "source": [
    "payload = b\"{'some':'payload'}\""
   ]
  },
  {
   "cell_type": "code",
   "execution_count": 5,
   "metadata": {
    "collapsed": false
   },
   "outputs": [],
   "source": [
    "int_a = list(payload)\n",
    "bin_a = [[chr(x), x, \"0b{:08b}\".format(x)] for x in int_a]"
   ]
  },
  {
   "cell_type": "code",
   "execution_count": 6,
   "metadata": {
    "collapsed": false
   },
   "outputs": [
    {
     "data": {
      "text/plain": [
       "[['{', 123, '0b01111011'],\n",
       " [\"'\", 39, '0b00100111'],\n",
       " ['s', 115, '0b01110011'],\n",
       " ['o', 111, '0b01101111'],\n",
       " ['m', 109, '0b01101101'],\n",
       " ['e', 101, '0b01100101'],\n",
       " [\"'\", 39, '0b00100111'],\n",
       " [':', 58, '0b00111010'],\n",
       " [\"'\", 39, '0b00100111'],\n",
       " ['p', 112, '0b01110000'],\n",
       " ['a', 97, '0b01100001'],\n",
       " ['y', 121, '0b01111001'],\n",
       " ['l', 108, '0b01101100'],\n",
       " ['o', 111, '0b01101111'],\n",
       " ['a', 97, '0b01100001'],\n",
       " ['d', 100, '0b01100100'],\n",
       " [\"'\", 39, '0b00100111'],\n",
       " ['}', 125, '0b01111101']]"
      ]
     },
     "execution_count": 6,
     "metadata": {},
     "output_type": "execute_result"
    }
   ],
   "source": [
    "bin_a"
   ]
  },
  {
   "cell_type": "markdown",
   "metadata": {},
   "source": [
    "Combine and re-devide the bits by 6."
   ]
  },
  {
   "cell_type": "code",
   "execution_count": 7,
   "metadata": {
    "collapsed": false
   },
   "outputs": [
    {
     "data": {
      "text/plain": [
       "'011110110010011101110011011011110110110101100101001001110011101000100111011100000110000101111001011011000110111101100001011001000010011101111101'"
      ]
     },
     "execution_count": 7,
     "metadata": {},
     "output_type": "execute_result"
    }
   ],
   "source": [
    "all_together = ''.join([\"{:08b}\".format(x) for x in int_a])\n",
    "all_together"
   ]
  },
  {
   "cell_type": "code",
   "execution_count": 8,
   "metadata": {
    "collapsed": false
   },
   "outputs": [
    {
     "data": {
      "text/plain": [
       "144"
      ]
     },
     "execution_count": 8,
     "metadata": {},
     "output_type": "execute_result"
    }
   ],
   "source": [
    "len(all_together)"
   ]
  },
  {
   "cell_type": "code",
   "execution_count": 9,
   "metadata": {
    "collapsed": false
   },
   "outputs": [
    {
     "data": {
      "text/plain": [
       "['011110',\n",
       " '110010',\n",
       " '011101',\n",
       " '110011',\n",
       " '011011',\n",
       " '110110',\n",
       " '110101',\n",
       " '100101',\n",
       " '001001',\n",
       " '110011',\n",
       " '101000',\n",
       " '100111',\n",
       " '011100',\n",
       " '000110',\n",
       " '000101',\n",
       " '111001',\n",
       " '011011',\n",
       " '000110',\n",
       " '111101',\n",
       " '100001',\n",
       " '011001',\n",
       " '000010',\n",
       " '011101',\n",
       " '111101']"
      ]
     },
     "execution_count": 9,
     "metadata": {},
     "output_type": "execute_result"
    }
   ],
   "source": [
    "n = 6\n",
    "div_by_three = [all_together[i:i+n] for i in range(0, len(all_together), n)]\n",
    "div_by_three"
   ]
  },
  {
   "cell_type": "code",
   "execution_count": 10,
   "metadata": {
    "collapsed": false
   },
   "outputs": [
    {
     "data": {
      "text/plain": [
       "[['011110', 30, 'e'],\n",
       " ['110010', 50, 'y'],\n",
       " ['011101', 29, 'd'],\n",
       " ['110011', 51, 'z'],\n",
       " ['011011', 27, 'b'],\n",
       " ['110110', 54, '2'],\n",
       " ['110101', 53, '1'],\n",
       " ['100101', 37, 'l'],\n",
       " ['001001', 9, 'J'],\n",
       " ['110011', 51, 'z'],\n",
       " ['101000', 40, 'o'],\n",
       " ['100111', 39, 'n'],\n",
       " ['011100', 28, 'c'],\n",
       " ['000110', 6, 'G'],\n",
       " ['000101', 5, 'F'],\n",
       " ['111001', 57, '5'],\n",
       " ['011011', 27, 'b'],\n",
       " ['000110', 6, 'G'],\n",
       " ['111101', 61, '9'],\n",
       " ['100001', 33, 'h'],\n",
       " ['011001', 25, 'Z'],\n",
       " ['000010', 2, 'C'],\n",
       " ['011101', 29, 'd'],\n",
       " ['111101', 61, '9']]"
      ]
     },
     "execution_count": 10,
     "metadata": {},
     "output_type": "execute_result"
    }
   ],
   "source": [
    "encoded = [[x, int(x, 2), base64char_table[int(x, 2)][3]] for x in div_by_three]\n",
    "encoded"
   ]
  },
  {
   "cell_type": "code",
   "execution_count": 11,
   "metadata": {
    "collapsed": false
   },
   "outputs": [
    {
     "data": {
      "text/plain": [
       "'eydzb21lJzoncGF5bG9hZCd9'"
      ]
     },
     "execution_count": 11,
     "metadata": {},
     "output_type": "execute_result"
    }
   ],
   "source": [
    "b64code = ''.join(x[2] for x in encoded)\n",
    "b64code"
   ]
  },
  {
   "cell_type": "markdown",
   "metadata": {},
   "source": [
    "Compare with library result"
   ]
  },
  {
   "cell_type": "code",
   "execution_count": 13,
   "metadata": {
    "collapsed": false
   },
   "outputs": [
    {
     "data": {
      "text/plain": [
       "b'eydzb21lJzoncGF5bG9hZCd9'"
      ]
     },
     "execution_count": 13,
     "metadata": {},
     "output_type": "execute_result"
    }
   ],
   "source": [
    "from base64 import b64encode, b64decode\n",
    "b64encode(payload)"
   ]
  }
 ],
 "metadata": {
  "kernelspec": {
   "display_name": "Python 3",
   "language": "python",
   "name": "python3"
  },
  "language_info": {
   "codemirror_mode": {
    "name": "ipython",
    "version": 3
   },
   "file_extension": ".py",
   "mimetype": "text/x-python",
   "name": "python",
   "nbconvert_exporter": "python",
   "pygments_lexer": "ipython3",
   "version": "3.5.2"
  }
 },
 "nbformat": 4,
 "nbformat_minor": 0
}
