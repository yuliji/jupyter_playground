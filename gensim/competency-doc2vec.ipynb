{
 "cells": [
  {
   "cell_type": "code",
   "execution_count": 1,
   "metadata": {
    "collapsed": true
   },
   "outputs": [],
   "source": [
    "import logging\n",
    "logging.basicConfig(format='%(asctime)s : %(levelname)s : %(message)s', level=logging.INFO)"
   ]
  },
  {
   "cell_type": "code",
   "execution_count": 15,
   "metadata": {
    "collapsed": false
   },
   "outputs": [
    {
     "data": {
      "text/plain": [
       "{'creativity': 'ability to think in a divergent way, and generate novel ideas.',\n",
       " 'employee loyalty': 'be committed to the success of the organization and believe that working for this organization is their best option.',\n",
       " 'leadership': 'ability to engage and facilitate others to create a better result.',\n",
       " 'passion': 'desire to provide long-term commitment to their organization, demonstrate peak performance, and maintain increased tenure with the organization. with the intense desire or enthusiasm for the work.',\n",
       " 'people skills': 'ability to establish social connections and understand the mindset of others.',\n",
       " 'proactivity': 'take the initiative and responsibility in improving business, rather than looking for causes in outside circumstances or other people.',\n",
       " 'reliability': 'ability to performing to perform when needed, finishing projects and meeting deadlines.',\n",
       " 'team work': 'ability to adapt to the needs of a group of people, while supporting the work of others.'}"
      ]
     },
     "execution_count": 15,
     "metadata": {},
     "output_type": "execute_result"
    }
   ],
   "source": [
    "competency = {'creativity': 'ability to think in a divergent way, and generate novel ideas.',\n",
    " 'employee loyalty': 'be committed to the success of the organization and believe that working for this organization is their best option.',\n",
    " 'leadership': 'ability to engage and facilitate others to create a better result.',\n",
    " 'passion': 'desire to provide long-term commitment to their organization, demonstrate peak performance, and maintain increased tenure with the organization. with the intense desire or enthusiasm for the work.',\n",
    " 'people skills': 'ability to establish social connections and understand the mindset of others.',\n",
    " 'proactivity': 'take the initiative and responsibility in improving business, rather than looking for causes in outside circumstances or other people.',\n",
    " 'reliability': 'ability to performing to perform when needed, finishing projects and meeting deadlines.',\n",
    " 'team work': 'ability to adapt to the needs of a group of people, while supporting the work of others.'}\n",
    "competency"
   ]
  },
  {
   "cell_type": "code",
   "execution_count": 38,
   "metadata": {
    "collapsed": false
   },
   "outputs": [
    {
     "data": {
      "text/plain": [
       "[TaggedDocument(words=['ability', 'to', 'engage', 'and', 'facilitate', 'others', 'to', 'create', 'a', 'better', 'result.'], tags=['leadership']),\n",
       " TaggedDocument(words=['desire', 'to', 'provide', 'long-term', 'commitment', 'to', 'their', 'organization,', 'demonstrate', 'peak', 'performance,', 'and', 'maintain', 'increased', 'tenure', 'with', 'the', 'organization.', 'with', 'the', 'intense', 'desire', 'or', 'enthusiasm', 'for', 'the', 'work.'], tags=['passion']),\n",
       " TaggedDocument(words=['ability', 'to', 'performing', 'to', 'perform', 'when', 'needed,', 'finishing', 'projects', 'and', 'meeting', 'deadlines.'], tags=['reliability']),\n",
       " TaggedDocument(words=['ability', 'to', 'establish', 'social', 'connections', 'and', 'understand', 'the', 'mindset', 'of', 'others.'], tags=['people skills']),\n",
       " TaggedDocument(words=['be', 'committed', 'to', 'the', 'success', 'of', 'the', 'organization', 'and', 'believe', 'that', 'working', 'for', 'this', 'organization', 'is', 'their', 'best', 'option.'], tags=['employee loyalty']),\n",
       " TaggedDocument(words=['ability', 'to', 'adapt', 'to', 'the', 'needs', 'of', 'a', 'group', 'of', 'people,', 'while', 'supporting', 'the', 'work', 'of', 'others.'], tags=['team work']),\n",
       " TaggedDocument(words=['ability', 'to', 'think', 'in', 'a', 'divergent', 'way,', 'and', 'generate', 'novel', 'ideas.'], tags=['creativity']),\n",
       " TaggedDocument(words=['take', 'the', 'initiative', 'and', 'responsibility', 'in', 'improving', 'business,', 'rather', 'than', 'looking', 'for', 'causes', 'in', 'outside', 'circumstances', 'or', 'other', 'people.'], tags=['proactivity'])]"
      ]
     },
     "execution_count": 38,
     "metadata": {},
     "output_type": "execute_result"
    }
   ],
   "source": [
    "documents = [models.doc2vec.LabeledSentence(words=competency[c].split(), tags=[c]) for c in competency]\n",
    "documents"
   ]
  },
  {
   "cell_type": "code",
   "execution_count": 40,
   "metadata": {
    "collapsed": false
   },
   "outputs": [
    {
     "data": {
      "text/plain": [
       "{'charisma': 'able to establish social connections and a broad network',\n",
       " 'confidence': 'acts on his/her own initiative with confidence',\n",
       " 'creativity': 'seeks change and performs creatively',\n",
       " 'entrepreneurial': 'keeps aware of both organizational issues and market opportunities',\n",
       " 'goal orientated': 'works systematically and drives the project to its goals',\n",
       " 'goal orientation': 'work systematically and drive the project to the target goals',\n",
       " 'growth potential': 'growth potential',\n",
       " 'integrity': 'acts with integrity and shows social responsibility',\n",
       " 'intellect': 'flexible application of knowledge to differing contexts',\n",
       " 'job performance': 'job performance',\n",
       " 'leadership': 'identifies talents, empowers and motivates other',\n",
       " 'logic': 'logical thinking and rational analysis',\n",
       " 'organisation': 'sets objectives, balances resources and time, monitors progress',\n",
       " 'organization': 'sets objectives, balances resources and time, monitors progress',\n",
       " 'performance': 'job performance',\n",
       " 'proactive': 'proactively deals with ambiguity',\n",
       " 'process driven': 'demonstrate commitment, accountablity, follow policies and procedures of the organizations',\n",
       " 'resilient': 'coping and resilient under stressful environment',\n",
       " 'self motivated': 'work enthusiastically for the achievement of self-development',\n",
       " 'strategic competency': 'strategic competency',\n",
       " 'strategy': 'foresight for potential problems and comes up with appropriate solutions',\n",
       " 'teamwork': 'adapts to the team; supports others'}"
      ]
     },
     "execution_count": 40,
     "metadata": {},
     "output_type": "execute_result"
    }
   ],
   "source": [
    "new_comp = \"\"\"\n",
    "Charisma\tAble to establish social connections and a broad network\n",
    "Confidence\tActs on his/her own initiative with confidence\n",
    "Creativity\tSeeks change and performs creatively\n",
    "Entrepreneurial\tKeeps aware of both organizational issues and market opportunities\n",
    "Goal Orientated\tWorks systematically and drives the project to its goals\n",
    "Goal Orientation\tWork systematically and drive the project to the target goals\n",
    "Growth Potential\tGrowth Potential\n",
    "Integrity\tActs with integrity and shows social responsibility\n",
    "Intellect\tFlexible application of knowledge to differing contexts\n",
    "Job Performance\tJob Performance\n",
    "Leadership\tIdentifies talents, empowers and motivates other\n",
    "Logic\tLogical thinking and rational analysis\n",
    "Organisation\tSets objectives, balances resources and time, monitors progress\n",
    "Organization\tSets objectives, balances resources and time, monitors progress\n",
    "Performance\tJob Performance\n",
    "Proactive\tProactively deals with ambiguity\n",
    "Process driven\tDemonstrate commitment, accountablity, follow policies and procedures of the organizations\n",
    "Resilient\tCoping and resilient under stressful environment\n",
    "Self motivated\tWork enthusiastically for the achievement of self-development\n",
    "Strategic Competency\tStrategic Competency\n",
    "Strategy\tForesight for potential problems and comes up with appropriate solutions\n",
    "Teamwork\tAdapts to the team; Supports others\n",
    "\"\"\"\n",
    "\n",
    "lines = new_comp.lower().strip().split('\\n')\n",
    "new_comp_dict = {splitted[0]:splitted[1] for splitted in [line.split('\\t') for line in lines]}\n",
    "new_comp_dict"
   ]
  },
  {
   "cell_type": "code",
   "execution_count": 41,
   "metadata": {
    "collapsed": false
   },
   "outputs": [
    {
     "data": {
      "text/plain": [
       "[TaggedDocument(words=['strategic', 'competency'], tags=['strategic competency']),\n",
       " TaggedDocument(words=['growth', 'potential'], tags=['growth potential']),\n",
       " TaggedDocument(words=['acts', 'with', 'integrity', 'and', 'shows', 'social', 'responsibility'], tags=['integrity']),\n",
       " TaggedDocument(words=['flexible', 'application', 'of', 'knowledge', 'to', 'differing', 'contexts'], tags=['intellect']),\n",
       " TaggedDocument(words=['acts', 'on', 'his/her', 'own', 'initiative', 'with', 'confidence'], tags=['confidence']),\n",
       " TaggedDocument(words=['works', 'systematically', 'and', 'drives', 'the', 'project', 'to', 'its', 'goals'], tags=['goal orientated']),\n",
       " TaggedDocument(words=['job', 'performance'], tags=['job performance']),\n",
       " TaggedDocument(words=['sets', 'objectives,', 'balances', 'resources', 'and', 'time,', 'monitors', 'progress'], tags=['organisation']),\n",
       " TaggedDocument(words=['seeks', 'change', 'and', 'performs', 'creatively'], tags=['creativity']),\n",
       " TaggedDocument(words=['work', 'enthusiastically', 'for', 'the', 'achievement', 'of', 'self-development'], tags=['self motivated']),\n",
       " TaggedDocument(words=['foresight', 'for', 'potential', 'problems', 'and', 'comes', 'up', 'with', 'appropriate', 'solutions'], tags=['strategy']),\n",
       " TaggedDocument(words=['able', 'to', 'establish', 'social', 'connections', 'and', 'a', 'broad', 'network'], tags=['charisma']),\n",
       " TaggedDocument(words=['adapts', 'to', 'the', 'team;', 'supports', 'others'], tags=['teamwork']),\n",
       " TaggedDocument(words=['coping', 'and', 'resilient', 'under', 'stressful', 'environment'], tags=['resilient']),\n",
       " TaggedDocument(words=['job', 'performance'], tags=['performance']),\n",
       " TaggedDocument(words=['work', 'systematically', 'and', 'drive', 'the', 'project', 'to', 'the', 'target', 'goals'], tags=['goal orientation']),\n",
       " TaggedDocument(words=['identifies', 'talents,', 'empowers', 'and', 'motivates', 'other'], tags=['leadership']),\n",
       " TaggedDocument(words=['keeps', 'aware', 'of', 'both', 'organizational', 'issues', 'and', 'market', 'opportunities'], tags=['entrepreneurial']),\n",
       " TaggedDocument(words=['logical', 'thinking', 'and', 'rational', 'analysis'], tags=['logic']),\n",
       " TaggedDocument(words=['sets', 'objectives,', 'balances', 'resources', 'and', 'time,', 'monitors', 'progress'], tags=['organization']),\n",
       " TaggedDocument(words=['demonstrate', 'commitment,', 'accountablity,', 'follow', 'policies', 'and', 'procedures', 'of', 'the', 'organizations'], tags=['process driven']),\n",
       " TaggedDocument(words=['proactively', 'deals', 'with', 'ambiguity'], tags=['proactive'])]"
      ]
     },
     "execution_count": 41,
     "metadata": {},
     "output_type": "execute_result"
    }
   ],
   "source": [
    "new_comp_doc = [models.doc2vec.LabeledSentence(words=new_comp_dict[c].split(), tags=[c]) for c in new_comp_dict]\n",
    "new_comp_doc"
   ]
  },
  {
   "cell_type": "code",
   "execution_count": 42,
   "metadata": {
    "collapsed": false
   },
   "outputs": [
    {
     "data": {
      "text/plain": [
       "[TaggedDocument(words=['ability', 'to', 'engage', 'and', 'facilitate', 'others', 'to', 'create', 'a', 'better', 'result.'], tags=['leadership']),\n",
       " TaggedDocument(words=['desire', 'to', 'provide', 'long-term', 'commitment', 'to', 'their', 'organization,', 'demonstrate', 'peak', 'performance,', 'and', 'maintain', 'increased', 'tenure', 'with', 'the', 'organization.', 'with', 'the', 'intense', 'desire', 'or', 'enthusiasm', 'for', 'the', 'work.'], tags=['passion']),\n",
       " TaggedDocument(words=['ability', 'to', 'performing', 'to', 'perform', 'when', 'needed,', 'finishing', 'projects', 'and', 'meeting', 'deadlines.'], tags=['reliability']),\n",
       " TaggedDocument(words=['ability', 'to', 'establish', 'social', 'connections', 'and', 'understand', 'the', 'mindset', 'of', 'others.'], tags=['people skills']),\n",
       " TaggedDocument(words=['be', 'committed', 'to', 'the', 'success', 'of', 'the', 'organization', 'and', 'believe', 'that', 'working', 'for', 'this', 'organization', 'is', 'their', 'best', 'option.'], tags=['employee loyalty']),\n",
       " TaggedDocument(words=['ability', 'to', 'adapt', 'to', 'the', 'needs', 'of', 'a', 'group', 'of', 'people,', 'while', 'supporting', 'the', 'work', 'of', 'others.'], tags=['team work']),\n",
       " TaggedDocument(words=['ability', 'to', 'think', 'in', 'a', 'divergent', 'way,', 'and', 'generate', 'novel', 'ideas.'], tags=['creativity']),\n",
       " TaggedDocument(words=['take', 'the', 'initiative', 'and', 'responsibility', 'in', 'improving', 'business,', 'rather', 'than', 'looking', 'for', 'causes', 'in', 'outside', 'circumstances', 'or', 'other', 'people.'], tags=['proactivity']),\n",
       " TaggedDocument(words=['strategic', 'competency'], tags=['strategic competency']),\n",
       " TaggedDocument(words=['growth', 'potential'], tags=['growth potential']),\n",
       " TaggedDocument(words=['acts', 'with', 'integrity', 'and', 'shows', 'social', 'responsibility'], tags=['integrity']),\n",
       " TaggedDocument(words=['flexible', 'application', 'of', 'knowledge', 'to', 'differing', 'contexts'], tags=['intellect']),\n",
       " TaggedDocument(words=['acts', 'on', 'his/her', 'own', 'initiative', 'with', 'confidence'], tags=['confidence']),\n",
       " TaggedDocument(words=['works', 'systematically', 'and', 'drives', 'the', 'project', 'to', 'its', 'goals'], tags=['goal orientated']),\n",
       " TaggedDocument(words=['job', 'performance'], tags=['job performance']),\n",
       " TaggedDocument(words=['sets', 'objectives,', 'balances', 'resources', 'and', 'time,', 'monitors', 'progress'], tags=['organisation']),\n",
       " TaggedDocument(words=['seeks', 'change', 'and', 'performs', 'creatively'], tags=['creativity']),\n",
       " TaggedDocument(words=['work', 'enthusiastically', 'for', 'the', 'achievement', 'of', 'self-development'], tags=['self motivated']),\n",
       " TaggedDocument(words=['foresight', 'for', 'potential', 'problems', 'and', 'comes', 'up', 'with', 'appropriate', 'solutions'], tags=['strategy']),\n",
       " TaggedDocument(words=['able', 'to', 'establish', 'social', 'connections', 'and', 'a', 'broad', 'network'], tags=['charisma']),\n",
       " TaggedDocument(words=['adapts', 'to', 'the', 'team;', 'supports', 'others'], tags=['teamwork']),\n",
       " TaggedDocument(words=['coping', 'and', 'resilient', 'under', 'stressful', 'environment'], tags=['resilient']),\n",
       " TaggedDocument(words=['job', 'performance'], tags=['performance']),\n",
       " TaggedDocument(words=['work', 'systematically', 'and', 'drive', 'the', 'project', 'to', 'the', 'target', 'goals'], tags=['goal orientation']),\n",
       " TaggedDocument(words=['identifies', 'talents,', 'empowers', 'and', 'motivates', 'other'], tags=['leadership']),\n",
       " TaggedDocument(words=['keeps', 'aware', 'of', 'both', 'organizational', 'issues', 'and', 'market', 'opportunities'], tags=['entrepreneurial']),\n",
       " TaggedDocument(words=['logical', 'thinking', 'and', 'rational', 'analysis'], tags=['logic']),\n",
       " TaggedDocument(words=['sets', 'objectives,', 'balances', 'resources', 'and', 'time,', 'monitors', 'progress'], tags=['organization']),\n",
       " TaggedDocument(words=['demonstrate', 'commitment,', 'accountablity,', 'follow', 'policies', 'and', 'procedures', 'of', 'the', 'organizations'], tags=['process driven']),\n",
       " TaggedDocument(words=['proactively', 'deals', 'with', 'ambiguity'], tags=['proactive'])]"
      ]
     },
     "execution_count": 42,
     "metadata": {},
     "output_type": "execute_result"
    }
   ],
   "source": [
    "documents = documents + new_comp_doc\n",
    "documents"
   ]
  },
  {
   "cell_type": "code",
   "execution_count": 61,
   "metadata": {
    "collapsed": false
   },
   "outputs": [],
   "source": [
    "from gensim import models\n",
    "\n",
    "model = models.doc2vec.Doc2Vec(alpha=0.025, min_alpha=0.025)  # use fixed learning rate\n",
    "model.build_vocab(documents)\n",
    "for epoch in range(10):\n",
    "    model.train(sentences)\n",
    "    model.alpha -= 0.002  # decrease the learning rate\n",
    "    model.min_alpha = model.alpha  # fix the learning rate, no decay"
   ]
  },
  {
   "cell_type": "code",
   "execution_count": 62,
   "metadata": {
    "collapsed": false
   },
   "outputs": [
    {
     "name": "stdout",
     "output_type": "stream",
     "text": [
      "[('employee loyalty', 0.15905702114105225), ('intellect', 0.10739172995090485), ('entrepreneurial', 0.09366533905267715), ('goal orientation', 0.08588584512472153), ('job performance', 0.08349040150642395), ('proactive', 0.060096375644207), ('people skills', 0.05853109434247017), ('process driven', 0.04279828444123268), ('self motivated', 0.03858276456594467), ('performance', 0.03845643624663353)]\n"
     ]
    }
   ],
   "source": [
    "print model.docvecs.most_similar([\"creativity\"])"
   ]
  },
  {
   "cell_type": "code",
   "execution_count": 63,
   "metadata": {
    "collapsed": false
   },
   "outputs": [
    {
     "name": "stdout",
     "output_type": "stream",
     "text": [
      "strategic competency      employee loyalty          0.0678265467286\n",
      "growth potential          employee loyalty          0.0382719859481\n",
      "integrity                 reliability               0.0700051486492\n",
      "intellect                 creativity                0.107391744852\n",
      "confidence                reliability               0.0599830262363\n",
      "goal orientated           leadership                0.0609240680933\n",
      "job performance           reliability               0.119967840612\n",
      "organisation              leadership                0.165947631001\n",
      "creativity                employee loyalty          0.159057021141\n",
      "self motivated            employee loyalty          0.0983161702752\n",
      "strategy                  people skills             0.0671328827739\n",
      "charisma                  leadership                0.0980812013149\n",
      "teamwork                  reliability               0.0784644559026\n",
      "resilient                 employee loyalty          0.0972720086575\n",
      "performance               reliability               0.112092211843\n",
      "goal orientation          passion                   0.107817448676\n",
      "leadership                passion                   0.0326786860824\n",
      "entrepreneurial           creativity                0.0936653390527\n",
      "logic                     reliability               0.0834938138723\n",
      "organization              reliability               0.0757312625647\n",
      "process driven            reliability               0.0664385780692\n",
      "proactive                 reliability               0.128125667572\n"
     ]
    }
   ],
   "source": [
    "for c in new_comp_dict:\n",
    "    sim =  model.docvecs.most_similar([c])\n",
    "    for s in sim:\n",
    "        if s[0] in competency:\n",
    "            print \"{:25} {:25} {}\".format(c, s[0], s[1])\n",
    "            break"
   ]
  }
 ],
 "metadata": {
  "kernelspec": {
   "display_name": "Python 2",
   "language": "python",
   "name": "python2"
  },
  "language_info": {
   "codemirror_mode": {
    "name": "ipython",
    "version": 2
   },
   "file_extension": ".py",
   "mimetype": "text/x-python",
   "name": "python",
   "nbconvert_exporter": "python",
   "pygments_lexer": "ipython2",
   "version": "2.7.12"
  }
 },
 "nbformat": 4,
 "nbformat_minor": 0
}
