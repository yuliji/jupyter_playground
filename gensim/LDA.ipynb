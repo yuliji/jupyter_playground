{
 "cells": [
  {
   "cell_type": "code",
   "execution_count": 15,
   "metadata": {
    "collapsed": false
   },
   "outputs": [],
   "source": [
    "import gensim\n",
    "corpus = gensim.corpora.MalletCorpus('/tmp/android.mallet') #https://drive.google.com/open?id=0BxrXGxfAKIwfUjVuSnhSVVBTZVU\n",
    "model = gensim.models.LdaModel(corpus, id2word=corpus.id2word, alpha='auto', num_topics=25)\n",
    "model.save('/tmp/android.lda')"
   ]
  },
  {
   "cell_type": "code",
   "execution_count": 5,
   "metadata": {
    "collapsed": false
   },
   "outputs": [
    {
     "data": {
      "text/plain": [
       "[(9,\n",
       "  u'0.141*\"music\" + 0.070*\"display\" + 0.043*\"sound\" + 0.040*\"contact\" + 0.036*\"phone\" + 0.035*\"number\" + 0.031*\"error\" + 0.026*\"htc\" + 0.023*\"player\" + 0.014*\"photos\"'),\n",
       " (16,\n",
       "  u'0.042*\"send\" + 0.036*\"sms\" + 0.030*\"xml\" + 0.025*\"address\" + 0.022*\"type\" + 0.021*\"email\" + 0.020*\"jellybean\" + 0.019*\"sending\" + 0.019*\"visible\" + 0.019*\"enable\"'),\n",
       " (2,\n",
       "  u'0.128*\"galaxy\" + 0.056*\"displaying\" + 0.053*\"samsung\" + 0.051*\"working\" + 0.042*\"landscape\" + 0.037*\"tap\" + 0.023*\"java\" + 0.022*\"latitude\" + 0.021*\"webview\" + 0.017*\"memory\"'),\n",
       " (19,\n",
       "  u'0.066*\"occurs\" + 0.050*\"android\" + 0.047*\"open\" + 0.038*\"occur\" + 0.030*\"mail\" + 0.026*\"exchange\" + 0.025*\"project\" + 0.022*\"running\" + 0.022*\"update\" + 0.021*\"crashed\"'),\n",
       " (21,\n",
       "  u'0.169*\"force\" + 0.169*\"close\" + 0.066*\"text\" + 0.039*\"message\" + 0.031*\"calendar\" + 0.024*\"tap\" + 0.017*\"map\" + 0.015*\"typo\" + 0.013*\"messages\" + 0.013*\"application\"')]"
      ]
     },
     "execution_count": 5,
     "metadata": {},
     "output_type": "execute_result"
    }
   ],
   "source": [
    "model.show_topics(5)"
   ]
  },
  {
   "cell_type": "code",
   "execution_count": 6,
   "metadata": {
    "collapsed": false
   },
   "outputs": [
    {
     "data": {
      "text/plain": [
       "['google', 'maps', 'broken', 'navigation']"
      ]
     },
     "execution_count": 6,
     "metadata": {},
     "output_type": "execute_result"
    }
   ],
   "source": [
    "query = 'google maps broken navigation'\n",
    "query = query.split()\n",
    "query"
   ]
  },
  {
   "cell_type": "code",
   "execution_count": 8,
   "metadata": {
    "collapsed": false
   },
   "outputs": [],
   "source": [
    "id2word = gensim.corpora.Dictionary()\n",
    "_ = id2word.merge_with(corpus.id2word)"
   ]
  },
  {
   "cell_type": "code",
   "execution_count": 9,
   "metadata": {
    "collapsed": false
   },
   "outputs": [
    {
     "data": {
      "text/plain": [
       "<gensim.models.VocabTransform at 0x10dac9450>"
      ]
     },
     "execution_count": 9,
     "metadata": {},
     "output_type": "execute_result"
    }
   ],
   "source": [
    "_"
   ]
  },
  {
   "cell_type": "code",
   "execution_count": 10,
   "metadata": {
    "collapsed": false
   },
   "outputs": [
    {
     "data": {
      "text/plain": [
       "[(1754, 1), (6081, 1), (8441, 1), (9208, 1)]"
      ]
     },
     "execution_count": 10,
     "metadata": {},
     "output_type": "execute_result"
    }
   ],
   "source": [
    "query = id2word.doc2bow(query)\n",
    "query"
   ]
  },
  {
   "cell_type": "code",
   "execution_count": 11,
   "metadata": {
    "collapsed": false
   },
   "outputs": [
    {
     "data": {
      "text/plain": [
       "[(1, 0.25847434192449142),\n",
       " (2, 0.010679622130086667),\n",
       " (18, 0.14494419704208122),\n",
       " (19, 0.010708338738292463),\n",
       " (20, 0.19793945527399073),\n",
       " (21, 0.010959063699519664),\n",
       " (22, 0.010428407936543692),\n",
       " (24, 0.20077293481035371)]"
      ]
     },
     "execution_count": 11,
     "metadata": {},
     "output_type": "execute_result"
    }
   ],
   "source": [
    "model[query]"
   ]
  },
  {
   "cell_type": "code",
   "execution_count": 12,
   "metadata": {
    "collapsed": false
   },
   "outputs": [
    {
     "name": "stdout",
     "output_type": "stream",
     "text": [
      "(22, 0.010428407936538389)\n",
      "(1, 0.25772892124095459)\n"
     ]
    }
   ],
   "source": [
    "a = list(sorted(model[query], key=lambda x: x[1]))\n",
    "print(a[0])\n",
    "print(a[-1])"
   ]
  },
  {
   "cell_type": "code",
   "execution_count": 14,
   "metadata": {
    "collapsed": false
   },
   "outputs": [
    {
     "name": "stdout",
     "output_type": "stream",
     "text": [
      "\n"
     ]
    },
    {
     "data": {
      "text/plain": [
       "u'0.155*\"device\" + 0.131*\"maps\" + 0.044*\"google\" + 0.042*\"screen\" + 0.035*\"lock\" + 0.033*\"bar\" + 0.029*\"popup\" + 0.022*\"places\" + 0.019*\"alarm\" + 0.016*\"weather\"'"
      ]
     },
     "execution_count": 14,
     "metadata": {},
     "output_type": "execute_result"
    }
   ],
   "source": [
    "model.print_topic(a[0][0]) #least related\n",
    "print ''\n",
    "model.print_topic(a[-1][0]) #most related"
   ]
  }
 ],
 "metadata": {
  "kernelspec": {
   "display_name": "Python 2",
   "language": "python",
   "name": "python2"
  },
  "language_info": {
   "codemirror_mode": {
    "name": "ipython",
    "version": 2
   },
   "file_extension": ".py",
   "mimetype": "text/x-python",
   "name": "python",
   "nbconvert_exporter": "python",
   "pygments_lexer": "ipython2",
   "version": "2.7.12"
  }
 },
 "nbformat": 4,
 "nbformat_minor": 0
}
