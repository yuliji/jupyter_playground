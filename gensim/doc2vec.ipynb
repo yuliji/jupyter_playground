{
 "cells": [
  {
   "cell_type": "code",
   "execution_count": 2,
   "metadata": {
    "collapsed": false
   },
   "outputs": [
    {
     "data": {
      "text/plain": [
       "[TaggedDocument(words=[u'some', u'words', u'here'], tags=['SENT_0']),\n",
       " TaggedDocument(words=[u'here', u'we', u'go'], tags=['SENT_1'])]"
      ]
     },
     "execution_count": 2,
     "metadata": {},
     "output_type": "execute_result"
    }
   ],
   "source": [
    "from gensim import models\n",
    "\n",
    "sentence = models.doc2vec.LabeledSentence(\n",
    "    words=[u'some', u'words', u'here'], tags=[\"SENT_0\"])\n",
    "sentence1 = models.doc2vec.LabeledSentence(\n",
    "    words=[u'here', u'we', u'go'], tags=[\"SENT_1\"])\n",
    "\n",
    "sentences = [sentence, sentence1]\n",
    "sentences"
   ]
  },
  {
   "cell_type": "code",
   "execution_count": 4,
   "metadata": {
    "collapsed": false
   },
   "outputs": [
    {
     "data": {
      "text/plain": [
       "{u'go': <gensim.models.word2vec.Vocab at 0x10f401350>,\n",
       " u'here': <gensim.models.word2vec.Vocab at 0x109fe27d0>,\n",
       " u'some': <gensim.models.word2vec.Vocab at 0x109fe2790>,\n",
       " u'we': <gensim.models.word2vec.Vocab at 0x109fe2690>,\n",
       " u'words': <gensim.models.word2vec.Vocab at 0x109fe2990>}"
      ]
     },
     "execution_count": 4,
     "metadata": {},
     "output_type": "execute_result"
    }
   ],
   "source": [
    "\n",
    "class LabeledLineSentence(object):\n",
    "    def __init__(self, filename):\n",
    "        self.filename = filename\n",
    "    def __iter__(self):\n",
    "        for uid, line in enumerate(open(filename)):\n",
    "            yield LabeledSentence(words=line.split(), labels=['SENT_%s' % uid])\n",
    "            \n",
    "model = models.Doc2Vec(alpha=.025, min_alpha=.025, min_count=1)\n",
    "model.build_vocab(sentences)\n",
    "model.vocab"
   ]
  },
  {
   "cell_type": "code",
   "execution_count": 5,
   "metadata": {
    "collapsed": false
   },
   "outputs": [
    {
     "name": "stdout",
     "output_type": "stream",
     "text": [
      "[('SENT_1', 0.05411635711789131)]\n",
      "[('SENT_0', 0.05411636084318161)]\n"
     ]
    }
   ],
   "source": [
    "for epoch in range(10):\n",
    "    model.train(sentences)\n",
    "    model.alpha -= 0.002  # decrease the learning rate`\n",
    "    model.min_alpha = model.alpha  # fix the learning rate, no decay\n",
    "\n",
    "model.save(\"my_model.doc2vec\")\n",
    "model_loaded = models.Doc2Vec.load('my_model.doc2vec')\n",
    "\n",
    "print model.docvecs.most_similar([\"SENT_0\"])\n",
    "print model_loaded.docvecs.most_similar([\"SENT_1\"])"
   ]
  }
 ],
 "metadata": {
  "kernelspec": {
   "display_name": "Python 2",
   "language": "python",
   "name": "python2"
  },
  "language_info": {
   "codemirror_mode": {
    "name": "ipython",
    "version": 2
   },
   "file_extension": ".py",
   "mimetype": "text/x-python",
   "name": "python",
   "nbconvert_exporter": "python",
   "pygments_lexer": "ipython2",
   "version": "2.7.12"
  }
 },
 "nbformat": 4,
 "nbformat_minor": 0
}
