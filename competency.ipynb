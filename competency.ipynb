{
 "cells": [
  {
   "cell_type": "markdown",
   "metadata": {},
   "source": [
    "# Match most similar competency"
   ]
  },
  {
   "cell_type": "markdown",
   "metadata": {},
   "source": [
    "## Existing competencies"
   ]
  },
  {
   "cell_type": "code",
   "execution_count": 53,
   "metadata": {
    "collapsed": true
   },
   "outputs": [],
   "source": [
    "import logging\n",
    "logging.basicConfig(format='%(asctime)s : %(levelname)s : %(message)s', level=logging.INFO)"
   ]
  },
  {
   "cell_type": "code",
   "execution_count": 54,
   "metadata": {
    "collapsed": false
   },
   "outputs": [
    {
     "name": "stdout",
     "output_type": "stream",
     "text": [
      "0:Creativity\n",
      "1:Employee loyalty\n",
      "2:Reliability\n",
      "3:Leadership\n",
      "4:Passion\n",
      "5:People Skills\n",
      "6:Proactivity\n",
      "7:Team Work\n"
     ]
    }
   ],
   "source": [
    "competencys = ['Creativity', 'Employee loyalty', 'Reliability', 'Leadership', 'Passion', 'People Skills', 'Proactivity', 'Team Work']\n",
    "for i in range(8):\n",
    "    print \"{}:{}\".format(i, competencys[i])\n"
   ]
  },
  {
   "cell_type": "code",
   "execution_count": 55,
   "metadata": {
    "collapsed": false
   },
   "outputs": [],
   "source": [
    "descriptions = ['Ability to think in a divergent way, and generate novel ideas.',\n",
    "                'Be committed to the success of the organization and believe that working for this organization is their best option.',\n",
    "                'Ability to performing to perform when needed, finishing projects and meeting deadlines.', \n",
    "                'Ability to engage and facilitate others to create a better result.', \n",
    "                'Desire to provide long-term commitment to their organization, demonstrate peak performance, and maintain increased tenure with the organization. With the intense desire or enthusiasm for the work.', \n",
    "                'Ability to establish social connections and understand the mindset of others.', \n",
    "                'Take the initiative and responsibility in improving business, rather than looking for causes in outside circumstances or other people.',\n",
    "                'Ability to adapt to the needs of a group of people, while supporting the work of others.']"
   ]
  },
  {
   "cell_type": "markdown",
   "metadata": {},
   "source": [
    "## load dictionary and corpus"
   ]
  },
  {
   "cell_type": "code",
   "execution_count": 56,
   "metadata": {
    "collapsed": false
   },
   "outputs": [
    {
     "name": "stdout",
     "output_type": "stream",
     "text": [
      "Dictionary(50920 unique tokens: [u'sucess', u\"cake'\", u'mid-week', u'stallions', u'sonja']...)\n"
     ]
    }
   ],
   "source": [
    "from gensim import corpora, similarities, models\n",
    "\n",
    "dictionary = corpora.Dictionary.load_from_text('/mnt/local/var/seedlink/data/dictionary/dict_en.txt')\n",
    "print(dictionary)"
   ]
  },
  {
   "cell_type": "code",
   "execution_count": 57,
   "metadata": {
    "collapsed": false
   },
   "outputs": [],
   "source": [
    "import codecs\n",
    "import json\n",
    "path = '/mnt/local/var/seedlink/data/nltk_data/corpora/prepcorp/en_cc.json'\n",
    "with codecs.open(path, 'r', 'utf8') as fp:\n",
    "    jdata = fp.read()\n",
    "data = json.loads(jdata)\n",
    "corpus = data"
   ]
  },
  {
   "cell_type": "code",
   "execution_count": 58,
   "metadata": {
    "collapsed": false
   },
   "outputs": [
    {
     "name": "stdout",
     "output_type": "stream",
     "text": [
      "[[3, 1], [79, 1], [142, 1], [177, 1], [2675, 1], [2912, 1], [5182, 1]]\n",
      "a is like big kevin kid smith\n",
      "[[3, 1], [29, 1], [33, 1], [57, 1], [79, 1], [1160, 1], [1327, 1], [1436, 1], [13435, 1]]\n",
      "a his of that is juvenile humor s sophisticated\n",
      "[[3, 1], [4, 1], [174, 1], [282, 1], [325, 1], [357, 1], [359, 1], [575, 1], [706, 1], [756, 1], [1171, 1], [1344, 1], [4875, 1], [5929, 1], [39194, 1]]\n",
      "a and up he also books comic star having few written wars loves grew idolizing\n",
      "[[3, 1], [4, 1], [26, 1], [33, 1], [282, 1], [295, 1], [325, 1], [831, 1], [1436, 1], [2030, 1], [2169, 1], [4348, 1], [5182, 1], [6362, 1], [6552, 1], [8210, 1], [8365, 1], [9187, 1], [20250, 1], [22120, 1]]\n",
      "a and has of he own also teenagers s mostly following fellow smith adolescent composed students college cult minded grownups\n",
      "[[4, 2], [14, 1], [21, 1], [30, 2], [57, 1], [79, 2], [175, 2], [277, 1], [282, 2], [502, 1], [979, 1], [1093, 1], [1811, 1], [3874, 1], [4990, 1], [5182, 1], [6672, 1], [39196, 1]]\n",
      "and to but in that is when be he tries goes wrong hilarious person writing smith earnest moralize\n",
      "[[3, 1], [4, 1], [14, 1], [36, 1], [57, 1], [79, 1], [130, 1], [257, 1], [277, 1], [282, 1], [435, 1], [452, 1], [487, 1], [2058, 1], [2675, 1], [3401, 1], [5182, 1], [24801, 1]]\n",
      "a and to the that is you director be he better than first writer kevin tell smith ll\n",
      "[[29, 1], [33, 1], [36, 1], [57, 1], [110, 1], [119, 1], [209, 1], [277, 1], [325, 1], [428, 1], [677, 1], [868, 1], [869, 1], [884, 1], [2134, 1], [15420, 1], [39197, 1]]\n",
      "his of the that so as part be also might comes reason why across heavy handed moralizing\n",
      "[[33, 1], [36, 1], [133, 1], [254, 1], [425, 1], [473, 1], [650, 1], [706, 1], [962, 1], [1081, 1], [1166, 1], [39198, 1], [39199, 1]]\n",
      "of the characters us directors their great having them show instead sermonize theses\n",
      "[[4, 1], [30, 1], [36, 1], [49, 1], [52, 1], [79, 1], [93, 1], [118, 1], [119, 1], [243, 1], [389, 1], [1038, 2], [3880, 1], [7603, 1], [12149, 1]]\n",
      "and in the for it is this well as chasing was true amy dogma overrated\n",
      "[[3, 1], [14, 1], [34, 1], [46, 1], [57, 1], [79, 2], [146, 1], [398, 1], [1436, 1], [4162, 1], [5182, 1]]\n",
      "a to one bad that is not say s message smith\n"
     ]
    }
   ],
   "source": [
    "for i in range(10):\n",
    "    words =  [dictionary[t[0]] for t in corpus[i]]\n",
    "    print corpus[i]\n",
    "    print ' '.join(words)"
   ]
  },
  {
   "cell_type": "markdown",
   "metadata": {},
   "source": [
    "## New competency"
   ]
  },
  {
   "cell_type": "code",
   "execution_count": 140,
   "metadata": {
    "collapsed": false
   },
   "outputs": [],
   "source": [
    "new_comp = \"\"\"\n",
    "Charisma\tAble to establish social connections and a broad network\n",
    "Confidence\tActs on his/her own initiative with confidence\n",
    "Creativity\tSeeks change and performs creatively\n",
    "Entrepreneurial\tKeeps aware of both organizational issues and market opportunities\n",
    "Goal Orientated\tWorks systematically and drives the project to its goals\n",
    "Goal Orientation\tWork systematically and drive the project to the target goals\n",
    "Growth Potential\tGrowth Potential\n",
    "Integrity\tActs with integrity and shows social responsibility\n",
    "Intellect\tFlexible application of knowledge to differing contexts\n",
    "Job Performance\tJob Performance\n",
    "Leadership\tIdentifies talents, empowers and motivates other\n",
    "Logic\tLogical thinking and rational analysis\n",
    "Organisation\tSets objectives, balances resources and time, monitors progress\n",
    "Organization\tSets objectives, balances resources and time, monitors progress\n",
    "Performance\tJob Performance\n",
    "Proactive\tProactively deals with ambiguity\n",
    "Process driven\tDemonstrate commitment, accountablity, follow policies and procedures of the organizations\n",
    "Resilient\tCoping and resilient under stressful environment\n",
    "Self motivated\tWork enthusiastically for the achievement of self-development\n",
    "Strategic Competency\tStrategic Competency\n",
    "Strategy\tForesight for potential problems and comes up with appropriate solutions\n",
    "Teamwork\tAdapts to the team; Supports others\n",
    "\"\"\"\n",
    "\n",
    "lines = new_comp.lower().strip().split('\\n')\n",
    "new_comp_dict = {splitted[0]:splitted[1] for splitted in [line.split('\\t') for line in lines]}"
   ]
  },
  {
   "cell_type": "markdown",
   "metadata": {},
   "source": [
    "## Tfidf"
   ]
  },
  {
   "cell_type": "code",
   "execution_count": 59,
   "metadata": {
    "collapsed": false
   },
   "outputs": [],
   "source": [
    "tfidf = models.TfidfModel(corpus)"
   ]
  },
  {
   "cell_type": "code",
   "execution_count": 60,
   "metadata": {
    "collapsed": false
   },
   "outputs": [],
   "source": [
    "desc_bow = [dictionary.doc2bow(desc.lower().split()) for desc in descriptions]\n",
    "desc_tfidf = tfidf[desc_bow]"
   ]
  },
  {
   "cell_type": "markdown",
   "metadata": {},
   "source": [
    "## LSI"
   ]
  },
  {
   "cell_type": "code",
   "execution_count": 70,
   "metadata": {
    "collapsed": false
   },
   "outputs": [],
   "source": [
    "lsi = models.LsiModel(tfidf[corpus], id2word=dictionary, num_topics=300)"
   ]
  },
  {
   "cell_type": "code",
   "execution_count": 71,
   "metadata": {
    "collapsed": true
   },
   "outputs": [],
   "source": [
    "lsi.add_documents(desc_tfidf)"
   ]
  },
  {
   "cell_type": "code",
   "execution_count": 72,
   "metadata": {
    "collapsed": true
   },
   "outputs": [],
   "source": [
    "index = similarities.MatrixSimilarity(lsi[desc_tfidf]) # transform corpus to LSI space and index it"
   ]
  },
  {
   "cell_type": "markdown",
   "metadata": {},
   "source": [
    "0:Creativity\n",
    "\n",
    "1:Employee loyalty\n",
    "\n",
    "2:Reliability\n",
    "\n",
    "3:Leadership\n",
    "\n",
    "4:Passion\n",
    "\n",
    "5:People Skills\n",
    "\n",
    "6:Proactivity\n",
    "\n",
    "7:Team Work"
   ]
  },
  {
   "cell_type": "code",
   "execution_count": 141,
   "metadata": {
    "collapsed": false
   },
   "outputs": [
    {
     "name": "stdout",
     "output_type": "stream",
     "text": [
      "strategic competency -> People Skills 0.21805781126\n",
      "growth potential -> Passion 0.0826770737767\n",
      "integrity -> Passion 0.130976200104\n",
      "intellect -> Reliability 0.103481665254\n",
      "confidence -> Passion 0.143962875009\n",
      "goal orientated -> Employee loyalty 0.217423051596\n",
      "job performance -> Employee loyalty 0.0442851819098\n",
      "organisation -> Employee loyalty 0.0364584811032\n",
      "creativity -> Leadership 0.0557141378522\n",
      "self motivated -> People Skills 0.0790649056435\n",
      "strategy -> Team Work 0.167022421956\n",
      "charisma -> People Skills 0.134312421083\n",
      "teamwork -> People Skills 0.0189893096685\n",
      "resilient -> Team Work 0.0666694194078\n",
      "performance -> Employee loyalty 0.0230101142079\n",
      "goal orientation -> Employee loyalty 0.209044247866\n",
      "leadership -> Reliability 0.168288677931\n",
      "entrepreneurial -> People Skills 0.0364505276084\n",
      "logic -> Team Work 0.0638348832726\n",
      "organization -> Employee loyalty 0.349326014519\n",
      "process driven -> Proactivity 0.115234076977\n",
      "proactive -> Creativity 0.0\n"
     ]
    }
   ],
   "source": [
    "# query by competency name\n",
    "for comp in new_comp_dict:\n",
    "    query = comp.lower()\n",
    "    query_bow = dictionary.doc2bow(query.split())\n",
    "    query_lsi = lsi[tfidf[query_bow]]\n",
    "\n",
    "    sims = index[query_lsi]\n",
    "    sims = sorted(enumerate(sims), key=lambda item: -item[1])\n",
    "    print \"{} -> {} {}\".format(comp, competencys[sims[0][0]], sims[0][1])"
   ]
  },
  {
   "cell_type": "code",
   "execution_count": 138,
   "metadata": {
    "collapsed": false
   },
   "outputs": [
    {
     "name": "stdout",
     "output_type": "stream",
     "text": [
      "strategic competency -> People Skills 0.21805781126\n",
      "growth potential -> Passion 0.0826770737767\n",
      "integrity -> Passion 0.424755781889\n",
      "intellect -> People Skills 0.728225588799\n",
      "confidence -> Passion 0.230781331658\n",
      "goal orientated -> People Skills 0.224078446627\n",
      "job performance -> Employee loyalty 0.0442851819098\n",
      "organisation -> People Skills 0.316874146461\n",
      "creativity -> People Skills 0.291215986013\n",
      "self motivated -> Team Work 0.5838149786\n",
      "strategy -> Passion 0.306700468063\n",
      "charisma -> People Skills 0.587397158146\n",
      "teamwork -> People Skills 0.504117012024\n",
      "resilient -> People Skills 0.355710297823\n",
      "performance -> Employee loyalty 0.0442851819098\n",
      "goal orientation -> Team Work 0.623666167259\n",
      "leadership -> Proactivity 0.389719635248\n",
      "entrepreneurial -> People Skills 0.223295211792\n",
      "logic -> People Skills 0.294291198254\n",
      "organization -> People Skills 0.316874146461\n",
      "process driven -> People Skills 0.646625757217\n",
      "proactive -> Passion 0.556239128113\n"
     ]
    }
   ],
   "source": [
    "# query by competency desc\n",
    "for comp in new_comp_dict:\n",
    "    query = new_comp_dict[comp].lower()\n",
    "    query_bow = dictionary.doc2bow(query.split())\n",
    "    query_lsi = lsi[tfidf[query_bow]]\n",
    "\n",
    "    sims = index[query_lsi]\n",
    "    sims = sorted(enumerate(sims), key=lambda item: -item[1])\n",
    "    print \"{} -> {} {}\".format(comp, competencys[sims[0][0]], sims[0][1])"
   ]
  }
 ],
 "metadata": {
  "kernelspec": {
   "display_name": "Python 2",
   "language": "python",
   "name": "python2"
  },
  "language_info": {
   "codemirror_mode": {
    "name": "ipython",
    "version": 2
   },
   "file_extension": ".py",
   "mimetype": "text/x-python",
   "name": "python",
   "nbconvert_exporter": "python",
   "pygments_lexer": "ipython2",
   "version": "2.7.12"
  }
 },
 "nbformat": 4,
 "nbformat_minor": 0
}
