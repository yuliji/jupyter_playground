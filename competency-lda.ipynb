{
 "cells": [
  {
   "cell_type": "markdown",
   "metadata": {},
   "source": [
    "# Match most similar competency"
   ]
  },
  {
   "cell_type": "markdown",
   "metadata": {},
   "source": [
    "## Existing competencies"
   ]
  },
  {
   "cell_type": "code",
   "execution_count": 11,
   "metadata": {
    "collapsed": true
   },
   "outputs": [],
   "source": [
    "import logging\n",
    "logging.basicConfig(format='%(asctime)s : %(levelname)s : %(message)s', level=logging.INFO)"
   ]
  },
  {
   "cell_type": "code",
   "execution_count": 12,
   "metadata": {
    "collapsed": false
   },
   "outputs": [
    {
     "name": "stdout",
     "output_type": "stream",
     "text": [
      "0:Creativity\n",
      "1:Employee loyalty\n",
      "2:Reliability\n",
      "3:Leadership\n",
      "4:Passion\n",
      "5:People Skills\n",
      "6:Proactivity\n",
      "7:Team Work\n"
     ]
    }
   ],
   "source": [
    "competencys = ['Creativity', 'Employee loyalty', 'Reliability', 'Leadership', 'Passion', 'People Skills', 'Proactivity', 'Team Work']\n",
    "for i in range(8):\n",
    "    print \"{}:{}\".format(i, competencys[i])\n"
   ]
  },
  {
   "cell_type": "code",
   "execution_count": 13,
   "metadata": {
    "collapsed": false
   },
   "outputs": [],
   "source": [
    "descriptions = ['Ability to think in a divergent way, and generate novel ideas.',\n",
    "                'Be committed to the success of the organization and believe that working for this organization is their best option.',\n",
    "                'Ability to performing to perform when needed, finishing projects and meeting deadlines.', \n",
    "                'Ability to engage and facilitate others to create a better result.', \n",
    "                'Desire to provide long-term commitment to their organization, demonstrate peak performance, and maintain increased tenure with the organization. With the intense desire or enthusiasm for the work.', \n",
    "                'Ability to establish social connections and understand the mindset of others.', \n",
    "                'Take the initiative and responsibility in improving business, rather than looking for causes in outside circumstances or other people.',\n",
    "                'Ability to adapt to the needs of a group of people, while supporting the work of others.']"
   ]
  },
  {
   "cell_type": "markdown",
   "metadata": {},
   "source": [
    "## load dictionary and corpus"
   ]
  },
  {
   "cell_type": "code",
   "execution_count": 14,
   "metadata": {
    "collapsed": false
   },
   "outputs": [
    {
     "name": "stdout",
     "output_type": "stream",
     "text": [
      "Dictionary(50920 unique tokens: [u'sucess', u\"cake'\", u'mid-week', u'stallions', u'sonja']...)\n"
     ]
    }
   ],
   "source": [
    "from gensim import corpora, similarities, models\n",
    "\n",
    "dictionary = corpora.Dictionary.load_from_text('/mnt/local/var/seedlink/data/dictionary/dict_en.txt')\n",
    "print(dictionary)"
   ]
  },
  {
   "cell_type": "code",
   "execution_count": 15,
   "metadata": {
    "collapsed": false
   },
   "outputs": [],
   "source": [
    "import codecs\n",
    "import json\n",
    "path = '/mnt/local/var/seedlink/data/nltk_data/corpora/prepcorp/en_cc.json'\n",
    "with codecs.open(path, 'r', 'utf8') as fp:\n",
    "    jdata = fp.read()\n",
    "data = json.loads(jdata)\n",
    "corpus = data"
   ]
  },
  {
   "cell_type": "code",
   "execution_count": 16,
   "metadata": {
    "collapsed": false
   },
   "outputs": [],
   "source": [
    "for i in range(10):\n",
    "    words =  [dictionary[t[0]] for t in corpus[i]]\n",
    "     #print corpus[i]\n",
    "    #print ' '.join(words)"
   ]
  },
  {
   "cell_type": "markdown",
   "metadata": {},
   "source": [
    "## New competency"
   ]
  },
  {
   "cell_type": "code",
   "execution_count": 17,
   "metadata": {
    "collapsed": false
   },
   "outputs": [
    {
     "data": {
      "text/plain": [
       "{'charisma': 'able to establish social connections and a broad network',\n",
       " 'confidence': 'acts on his/her own initiative with confidence',\n",
       " 'creativity': 'seeks change and performs creatively',\n",
       " 'entrepreneurial': 'keeps aware of both organizational issues and market opportunities',\n",
       " 'goal orientated': 'works systematically and drives the project to its goals',\n",
       " 'goal orientation': 'work systematically and drive the project to the target goals',\n",
       " 'growth potential': 'growth potential',\n",
       " 'integrity': 'acts with integrity and shows social responsibility',\n",
       " 'intellect': 'flexible application of knowledge to differing contexts',\n",
       " 'job performance': 'job performance',\n",
       " 'leadership': 'identifies talents, empowers and motivates other',\n",
       " 'logic': 'logical thinking and rational analysis',\n",
       " 'organisation': 'sets objectives, balances resources and time, monitors progress',\n",
       " 'organization': 'sets objectives, balances resources and time, monitors progress',\n",
       " 'performance': 'job performance',\n",
       " 'proactive': 'proactively deals with ambiguity',\n",
       " 'process driven': 'demonstrate commitment, accountablity, follow policies and procedures of the organizations',\n",
       " 'resilient': 'coping and resilient under stressful environment',\n",
       " 'self motivated': 'work enthusiastically for the achievement of self-development',\n",
       " 'strategic competency': 'strategic competency',\n",
       " 'strategy': 'foresight for potential problems and comes up with appropriate solutions',\n",
       " 'teamwork': 'adapts to the team; supports others'}"
      ]
     },
     "execution_count": 17,
     "metadata": {},
     "output_type": "execute_result"
    }
   ],
   "source": [
    "new_comp = \"\"\"\n",
    "Charisma\tAble to establish social connections and a broad network\n",
    "Confidence\tActs on his/her own initiative with confidence\n",
    "Creativity\tSeeks change and performs creatively\n",
    "Entrepreneurial\tKeeps aware of both organizational issues and market opportunities\n",
    "Goal Orientated\tWorks systematically and drives the project to its goals\n",
    "Goal Orientation\tWork systematically and drive the project to the target goals\n",
    "Growth Potential\tGrowth Potential\n",
    "Integrity\tActs with integrity and shows social responsibility\n",
    "Intellect\tFlexible application of knowledge to differing contexts\n",
    "Job Performance\tJob Performance\n",
    "Leadership\tIdentifies talents, empowers and motivates other\n",
    "Logic\tLogical thinking and rational analysis\n",
    "Organisation\tSets objectives, balances resources and time, monitors progress\n",
    "Organization\tSets objectives, balances resources and time, monitors progress\n",
    "Performance\tJob Performance\n",
    "Proactive\tProactively deals with ambiguity\n",
    "Process driven\tDemonstrate commitment, accountablity, follow policies and procedures of the organizations\n",
    "Resilient\tCoping and resilient under stressful environment\n",
    "Self motivated\tWork enthusiastically for the achievement of self-development\n",
    "Strategic Competency\tStrategic Competency\n",
    "Strategy\tForesight for potential problems and comes up with appropriate solutions\n",
    "Teamwork\tAdapts to the team; Supports others\n",
    "\"\"\"\n",
    "\n",
    "lines = new_comp.lower().strip().split('\\n')\n",
    "new_comp_dict = {splitted[0]:splitted[1] for splitted in [line.split('\\t') for line in lines]}\n",
    "new_comp_dict"
   ]
  },
  {
   "cell_type": "markdown",
   "metadata": {},
   "source": [
    "## Tfidf"
   ]
  },
  {
   "cell_type": "code",
   "execution_count": 18,
   "metadata": {
    "collapsed": false
   },
   "outputs": [],
   "source": [
    "tfidf = models.TfidfModel(corpus)"
   ]
  },
  {
   "cell_type": "code",
   "execution_count": 19,
   "metadata": {
    "collapsed": false
   },
   "outputs": [],
   "source": [
    "desc_bow = [dictionary.doc2bow(desc.lower().split()) for desc in descriptions]\n",
    "desc_tfidf = tfidf[desc_bow]"
   ]
  },
  {
   "cell_type": "markdown",
   "metadata": {},
   "source": [
    "## LDA"
   ]
  },
  {
   "cell_type": "code",
   "execution_count": 20,
   "metadata": {
    "collapsed": false
   },
   "outputs": [],
   "source": [
    "lda = models.LdaModel(tfidf[corpus], num_topics=100, id2word=dictionary)"
   ]
  },
  {
   "cell_type": "code",
   "execution_count": 21,
   "metadata": {
    "collapsed": true
   },
   "outputs": [],
   "source": [
    "lda.save('/tmp/competency-100-orig.lda')"
   ]
  },
  {
   "cell_type": "code",
   "execution_count": null,
   "metadata": {
    "collapsed": false
   },
   "outputs": [],
   "source": [
    "lda.update(desc_tfidf)"
   ]
  },
  {
   "cell_type": "code",
   "execution_count": 22,
   "metadata": {
    "collapsed": false
   },
   "outputs": [
    {
     "data": {
      "text/plain": [
       "[(76,\n",
       "  u'0.036*\"turn\" + 0.022*\"may\" + 0.022*\"sequel\" + 0.022*\"direction\" + 0.022*\"ends\" + 0.021*\"cover\" + 0.021*\"purpose\" + 0.020*\"look\" + 0.019*\"immediately\" + 0.018*\"message\"'),\n",
       " (82,\n",
       "  u'0.020*\"rather\" + 0.017*\"house\" + 0.016*\"big\" + 0.014*\"somewhat\" + 0.012*\"fascinating\" + 0.011*\"imagination\" + 0.011*\"screen\" + 0.010*\"tried\" + 0.009*\"images\" + 0.009*\"proceedings\"'),\n",
       " (42,\n",
       "  u'0.045*\"don\" + 0.031*\"simply\" + 0.030*\"really\" + 0.027*\"we\" + 0.025*\"wanted\" + 0.023*\"daughter\" + 0.022*\"know\" + 0.022*\"feel\" + 0.022*\"t\" + 0.022*\"meet\"'),\n",
       " (40,\n",
       "  u'0.047*\"funny\" + 0.025*\"jackie\" + 0.023*\"present\" + 0.018*\"thrown\" + 0.017*\"forgotten\" + 0.016*\"throw\" + 0.016*\"directors\" + 0.016*\"playing\" + 0.015*\"frank\" + 0.015*\"female\"'),\n",
       " (72,\n",
       "  u'0.018*\"five\" + 0.017*\"gone\" + 0.017*\"solid\" + 0.015*\"nora\" + 0.013*\"sick\" + 0.013*\"self\" + 0.012*\"powers\" + 0.012*\"partner\" + 0.011*\"mayor\" + 0.011*\"intended\"')]"
      ]
     },
     "execution_count": 22,
     "metadata": {},
     "output_type": "execute_result"
    }
   ],
   "source": [
    "lda.print_topics(5)"
   ]
  },
  {
   "cell_type": "code",
   "execution_count": 25,
   "metadata": {
    "collapsed": true
   },
   "outputs": [],
   "source": [
    "index = similarities.MatrixSimilarity(lda[desc_tfidf]) # lda model"
   ]
  },
  {
   "cell_type": "code",
   "execution_count": 26,
   "metadata": {
    "collapsed": false
   },
   "outputs": [
    {
     "name": "stdout",
     "output_type": "stream",
     "text": [
      "[(3, 1), (4, 1), (14, 1), (1588, 1), (3670, 1), (6227, 1), (9190, 1), (12257, 1), (15255, 1)]\n"
     ]
    }
   ],
   "source": [
    "query = 'Able to establish social connections and a broad network'.lower()\n",
    "query_bow = dictionary.doc2bow(query.split())\n",
    "print query_bow\n",
    "query_lda = lda[tfidf[query_bow]]\n",
    "query_lda\n",
    "sims = index[query_lda]\n"
   ]
  },
  {
   "cell_type": "code",
   "execution_count": 27,
   "metadata": {
    "collapsed": false
   },
   "outputs": [
    {
     "data": {
      "text/plain": [
       "'Leadership'"
      ]
     },
     "execution_count": 27,
     "metadata": {},
     "output_type": "execute_result"
    }
   ],
   "source": [
    "competencys[3]"
   ]
  },
  {
   "cell_type": "code",
   "execution_count": 30,
   "metadata": {
    "collapsed": false
   },
   "outputs": [
    {
     "name": "stdout",
     "output_type": "stream",
     "text": [
      "strategic competency     \tPassion             \t0.173278793693\n",
      "growth potential         \tReliability         \t0.353087931871\n",
      "integrity                \tCreativity          \t0.0\n",
      "intellect                \tProactivity         \t0.144906938076\n",
      "confidence               \tCreativity          \t0.0\n",
      "goal orientated          \tEmployee loyalty    \t0.415975034237\n",
      "job performance          \tCreativity          \t0.0\n",
      "organisation             \tCreativity          \t0.752248764038\n",
      "creativity               \tCreativity          \t0.0\n",
      "self motivated           \tProactivity         \t0.681162118912\n",
      "strategy                 \tCreativity          \t0.0\n",
      "charisma                 \tPassion             \t0.300692051649\n",
      "teamwork                 \tCreativity          \t0.0\n",
      "resilient                \tCreativity          \t0.0\n",
      "performance              \tCreativity          \t0.0\n",
      "goal orientation         \tCreativity          \t0.40226662159\n",
      "leadership               \tCreativity          \t0.0\n",
      "entrepreneurial          \tCreativity          \t0.0\n",
      "logic                    \tCreativity          \t0.0\n",
      "organization             \tEmployee loyalty    \t0.819830238819\n",
      "process driven           \tProactivity         \t0.100425094366\n",
      "proactive                \tCreativity          \t0.0\n"
     ]
    }
   ],
   "source": [
    "# query by competency name\n",
    "for comp in new_comp_dict:\n",
    "    query = comp.lower()\n",
    "    query_bow = dictionary.doc2bow(query.split())\n",
    "    query_lda = lda[tfidf[query_bow]]\n",
    "\n",
    "    sims = index[query_lda]\n",
    "    sims = sorted(enumerate(sims), key=lambda item: -item[1])\n",
    "    print \"{:25}\\t{:20}\\t{}\".format(comp, competencys[sims[0][0]], sims[0][1])"
   ]
  },
  {
   "cell_type": "code",
   "execution_count": 31,
   "metadata": {
    "collapsed": false
   },
   "outputs": [
    {
     "name": "stdout",
     "output_type": "stream",
     "text": [
      "strategic competency     \tPassion             \t0.173278793693\n",
      "growth potential         \tReliability         \t0.353087931871\n",
      "integrity                \tProactivity         \t0.25954964757\n",
      "intellect                \tReliability         \t0.20600028336\n",
      "confidence               \tProactivity         \t0.375999569893\n",
      "goal orientated          \tProactivity         \t0.153876557946\n",
      "job performance          \tCreativity          \t0.0\n",
      "organisation             \tProactivity         \t0.5038869977\n",
      "creativity               \tPassion             \t0.0984498485923\n",
      "self motivated           \tReliability         \t0.228799894452\n",
      "strategy                 \tEmployee loyalty    \t0.339382588863\n",
      "charisma                 \tPeople Skills       \t0.514912486076\n",
      "teamwork                 \tLeadership          \t0.242369458079\n",
      "resilient                \tPassion             \t0.127446353436\n",
      "performance              \tCreativity          \t0.0\n",
      "goal orientation         \tProactivity         \t0.225374698639\n",
      "leadership               \tProactivity         \t0.791995167732\n",
      "entrepreneurial          \tReliability         \t0.234316527843\n",
      "logic                    \tLeadership          \t0.221660494804\n",
      "organization             \tProactivity         \t0.503884077072\n",
      "process driven           \tReliability         \t0.179610550404\n",
      "proactive                \tProactivity         \t0.211129978299\n"
     ]
    }
   ],
   "source": [
    "# query by competency desc\n",
    "for comp in new_comp_dict:\n",
    "    query = new_comp_dict[comp].lower()\n",
    "    query_bow = dictionary.doc2bow(query.split())\n",
    "    query_lda = lda[tfidf[query_bow]]\n",
    "\n",
    "    sims = index[query_lda]\n",
    "    sims = sorted(enumerate(sims), key=lambda item: -item[1])\n",
    "    print \"{:25}\\t{:20}\\t{}\".format(comp, competencys[sims[0][0]], sims[0][1])"
   ]
  }
 ],
 "metadata": {
  "kernelspec": {
   "display_name": "Python 2",
   "language": "python",
   "name": "python2"
  },
  "language_info": {
   "codemirror_mode": {
    "name": "ipython",
    "version": 2
   },
   "file_extension": ".py",
   "mimetype": "text/x-python",
   "name": "python",
   "nbconvert_exporter": "python",
   "pygments_lexer": "ipython2",
   "version": "2.7.12"
  }
 },
 "nbformat": 4,
 "nbformat_minor": 0
}
