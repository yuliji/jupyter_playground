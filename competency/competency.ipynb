{
 "cells": [
  {
   "cell_type": "markdown",
   "metadata": {},
   "source": [
    "# Match most similar competency"
   ]
  },
  {
   "cell_type": "markdown",
   "metadata": {},
   "source": [
    "## Existing competencies"
   ]
  },
  {
   "cell_type": "code",
   "execution_count": 54,
   "metadata": {
    "collapsed": true
   },
   "outputs": [],
   "source": [
    "import logging\n",
    "logging.basicConfig(format='%(asctime)s : %(levelname)s : %(message)s', level=logging.INFO)"
   ]
  },
  {
   "cell_type": "code",
   "execution_count": 55,
   "metadata": {
    "collapsed": false
   },
   "outputs": [
    {
     "name": "stdout",
     "output_type": "stream",
     "text": [
      "0:Creativity\n",
      "1:Employee loyalty\n",
      "2:Reliability\n",
      "3:Leadership\n",
      "4:Passion\n",
      "5:People Skills\n",
      "6:Proactivity\n",
      "7:Team Work\n"
     ]
    }
   ],
   "source": [
    "competencys = ['Creativity', 'Employee loyalty', 'Reliability', 'Leadership', 'Passion', 'People Skills', 'Proactivity', 'Team Work']\n",
    "for i in range(8):\n",
    "    print \"{}:{}\".format(i, competencys[i])\n"
   ]
  },
  {
   "cell_type": "code",
   "execution_count": 56,
   "metadata": {
    "collapsed": false
   },
   "outputs": [],
   "source": [
    "descriptions = ['Ability to think in a divergent way, and generate novel ideas.',\n",
    "                'Be committed to the success of the organization and believe that working for this organization is their best option.',\n",
    "                'Ability to performing to perform when needed, finishing projects and meeting deadlines.', \n",
    "                'Ability to engage and facilitate others to create a better result.', \n",
    "                'Desire to provide long-term commitment to their organization, demonstrate peak performance, and maintain increased tenure with the organization. With the intense desire or enthusiasm for the work.', \n",
    "                'Ability to establish social connections and understand the mindset of others.', \n",
    "                'Take the initiative and responsibility in improving business, rather than looking for causes in outside circumstances or other people.',\n",
    "                'Ability to adapt to the needs of a group of people, while supporting the work of others.']"
   ]
  },
  {
   "cell_type": "markdown",
   "metadata": {},
   "source": [
    "## load dictionary and corpus"
   ]
  },
  {
   "cell_type": "code",
   "execution_count": 57,
   "metadata": {
    "collapsed": false
   },
   "outputs": [
    {
     "name": "stdout",
     "output_type": "stream",
     "text": [
      "Dictionary(50920 unique tokens: [u'sucess', u\"cake'\", u'mid-week', u'stallions', u'sonja']...)\n"
     ]
    }
   ],
   "source": [
    "from gensim import corpora, similarities, models\n",
    "\n",
    "dictionary = corpora.Dictionary.load_from_text('/mnt/local/var/seedlink/data/dictionary/dict_en.txt')\n",
    "print(dictionary)"
   ]
  },
  {
   "cell_type": "code",
   "execution_count": 58,
   "metadata": {
    "collapsed": false
   },
   "outputs": [],
   "source": [
    "import codecs\n",
    "import json\n",
    "path = '/mnt/local/var/seedlink/data/nltk_data/corpora/prepcorp/en_cc.json'\n",
    "with codecs.open(path, 'r', 'utf8') as fp:\n",
    "    jdata = fp.read()\n",
    "data = json.loads(jdata)\n",
    "corpus = data"
   ]
  },
  {
   "cell_type": "code",
   "execution_count": 59,
   "metadata": {
    "collapsed": false
   },
   "outputs": [],
   "source": [
    "for i in range(10):\n",
    "    words =  [dictionary[t[0]] for t in corpus[i]]\n",
    "     #print corpus[i]\n",
    "    #print ' '.join(words)"
   ]
  },
  {
   "cell_type": "markdown",
   "metadata": {},
   "source": [
    "## New competency"
   ]
  },
  {
   "cell_type": "code",
   "execution_count": 60,
   "metadata": {
    "collapsed": false
   },
   "outputs": [],
   "source": [
    "new_comp = \"\"\"\n",
    "Charisma\tAble to establish social connections and a broad network\n",
    "Confidence\tActs on his/her own initiative with confidence\n",
    "Creativity\tSeeks change and performs creatively\n",
    "Entrepreneurial\tKeeps aware of both organizational issues and market opportunities\n",
    "Goal Orientated\tWorks systematically and drives the project to its goals\n",
    "Goal Orientation\tWork systematically and drive the project to the target goals\n",
    "Growth Potential\tGrowth Potential\n",
    "Integrity\tActs with integrity and shows social responsibility\n",
    "Intellect\tFlexible application of knowledge to differing contexts\n",
    "Job Performance\tJob Performance\n",
    "Leadership\tIdentifies talents, empowers and motivates other\n",
    "Logic\tLogical thinking and rational analysis\n",
    "Organisation\tSets objectives, balances resources and time, monitors progress\n",
    "Organization\tSets objectives, balances resources and time, monitors progress\n",
    "Performance\tJob Performance\n",
    "Proactive\tProactively deals with ambiguity\n",
    "Process driven\tDemonstrate commitment, accountablity, follow policies and procedures of the organizations\n",
    "Resilient\tCoping and resilient under stressful environment\n",
    "Self motivated\tWork enthusiastically for the achievement of self-development\n",
    "Strategic Competency\tStrategic Competency\n",
    "Strategy\tForesight for potential problems and comes up with appropriate solutions\n",
    "Teamwork\tAdapts to the team; Supports others\n",
    "\"\"\"\n",
    "\n",
    "lines = new_comp.lower().strip().split('\\n')\n",
    "new_comp_dict = {splitted[0]:splitted[1] for splitted in [line.split('\\t') for line in lines]}"
   ]
  },
  {
   "cell_type": "markdown",
   "metadata": {},
   "source": [
    "## Tfidf"
   ]
  },
  {
   "cell_type": "code",
   "execution_count": 61,
   "metadata": {
    "collapsed": false
   },
   "outputs": [],
   "source": [
    "tfidf = models.TfidfModel(corpus)"
   ]
  },
  {
   "cell_type": "code",
   "execution_count": 62,
   "metadata": {
    "collapsed": false
   },
   "outputs": [],
   "source": [
    "desc_bow = [dictionary.doc2bow(desc.lower().split()) for desc in descriptions]\n",
    "desc_tfidf = tfidf[desc_bow]\n",
    "\n",
    "#index = similarities.MatrixSimilarity(desc_tfidf) # transform corpus to LSI space and index itb"
   ]
  },
  {
   "cell_type": "code",
   "execution_count": 63,
   "metadata": {
    "collapsed": false
   },
   "outputs": [],
   "source": [
    "# query by competency name\n",
    "#for comp in new_comp_dict:\n",
    "#    query = comp.lower()\n",
    "##    query_bow = dictionary.doc2bow(query.split())\n",
    " #   query_tfidf = tfidf[query_bow]\n",
    "\n",
    "#    sims = index[query_tfidf]\n",
    "#    sims = sorted(enumerate(sims), key=lambda item: -item[1])\n",
    "#    print \"{:25}\\t{:20}\\t{}\".format(comp, competencys[sims[0][0]], sims[0][1])"
   ]
  },
  {
   "cell_type": "code",
   "execution_count": 64,
   "metadata": {
    "collapsed": false
   },
   "outputs": [],
   "source": [
    "# query by competency desc\n",
    "#for comp in new_comp_dict:\n",
    "#    query = new_comp_dict[comp].lower()\n",
    "#    query_bow = dictionary.doc2bow(query.split())\n",
    "#    query_tfidf = tfidf[query_bow]\n",
    "\n",
    "#    sims = index[query_tfidf]\n",
    "#    sims = sorted(enumerate(sims), key=lambda item: -item[1])\n",
    "#    print \"{:25}\\t{:20}\\t{}\".format(comp, competencys[sims[0][0]], sims[0][1])"
   ]
  },
  {
   "cell_type": "markdown",
   "metadata": {},
   "source": [
    "## LSI"
   ]
  },
  {
   "cell_type": "code",
   "execution_count": 65,
   "metadata": {
    "collapsed": false
   },
   "outputs": [],
   "source": [
    "lsi = models.LsiModel(tfidf[corpus], id2word=dictionary, num_topics=100)"
   ]
  },
  {
   "cell_type": "code",
   "execution_count": 66,
   "metadata": {
    "collapsed": true
   },
   "outputs": [],
   "source": [
    "lsi.save('/tmp/comp-100.lsi')"
   ]
  },
  {
   "cell_type": "code",
   "execution_count": 67,
   "metadata": {
    "collapsed": true
   },
   "outputs": [],
   "source": [
    "lsi.add_documents(desc_tfidf)"
   ]
  },
  {
   "cell_type": "code",
   "execution_count": 68,
   "metadata": {
    "collapsed": true
   },
   "outputs": [],
   "source": [
    "index = similarities.MatrixSimilarity(lsi[desc_tfidf]) # transform corpus to LSI space and index it"
   ]
  },
  {
   "cell_type": "code",
   "execution_count": 69,
   "metadata": {
    "collapsed": false
   },
   "outputs": [
    {
     "name": "stdout",
     "output_type": "stream",
     "text": [
      "strategic competency     \tReliability         \t0.248677060008\n",
      "growth potential         \tReliability         \t0.229364946485\n",
      "integrity                \tPassion             \t0.282940745354\n",
      "intellect                \tPeople Skills       \t0.259692519903\n",
      "confidence               \tPassion             \t0.342814087868\n",
      "goal orientated          \tEmployee loyalty    \t0.405059754848\n",
      "job performance          \tTeam Work           \t0.171646177769\n",
      "organisation             \tReliability         \t0.071084395051\n",
      "creativity               \tProactivity         \t0.0944112688303\n",
      "self motivated           \tTeam Work           \t0.289829999208\n",
      "strategy                 \tPeople Skills       \t0.278630554676\n",
      "charisma                 \tPassion             \t0.223079249263\n",
      "teamwork                 \tPeople Skills       \t0.146099314094\n",
      "resilient                \tPeople Skills       \t0.105503886938\n",
      "performance              \tEmployee loyalty    \t0.22753688693\n",
      "goal orientation         \tEmployee loyalty    \t0.424750328064\n",
      "leadership               \tReliability         \t0.242421224713\n",
      "entrepreneurial          \tProactivity         \t0.0977065861225\n",
      "logic                    \tCreativity          \t0.0812815725803\n",
      "organization             \tEmployee loyalty    \t0.374179720879\n",
      "process driven           \tProactivity         \t0.254176110029\n",
      "proactive                \tCreativity          \t0.0\n"
     ]
    }
   ],
   "source": [
    "# query by competency name\n",
    "for comp in new_comp_dict:\n",
    "    query = comp.lower()\n",
    "    query_bow = dictionary.doc2bow(query.split())\n",
    "    query_lsi = lsi[tfidf[query_bow]]\n",
    "\n",
    "    sims = index[query_lsi]\n",
    "    sims = sorted(enumerate(sims), key=lambda item: -item[1])\n",
    "    print \"{:25}\\t{:20}\\t{}\".format(comp, competencys[sims[0][0]], sims[0][1])"
   ]
  },
  {
   "cell_type": "code",
   "execution_count": 70,
   "metadata": {
    "collapsed": false
   },
   "outputs": [
    {
     "name": "stdout",
     "output_type": "stream",
     "text": [
      "strategic competency     \tReliability         \t0.248677060008\n",
      "growth potential         \tReliability         \t0.229364946485\n",
      "integrity                \tPassion             \t0.601382493973\n",
      "intellect                \tPeople Skills       \t0.859621524811\n",
      "confidence               \tPassion             \t0.453828334808\n",
      "goal orientated          \tPeople Skills       \t0.345883011818\n",
      "job performance          \tTeam Work           \t0.171646177769\n",
      "organisation             \tPeople Skills       \t0.482191026211\n",
      "creativity               \tPeople Skills       \t0.448025882244\n",
      "self motivated           \tTeam Work           \t0.47619509697\n",
      "strategy                 \tPassion             \t0.504842936993\n",
      "charisma                 \tPeople Skills       \t0.708268642426\n",
      "teamwork                 \tPeople Skills       \t0.723624527454\n",
      "resilient                \tPeople Skills       \t0.524786353111\n",
      "performance              \tTeam Work           \t0.171646177769\n",
      "goal orientation         \tTeam Work           \t0.70883077383\n",
      "leadership               \tProactivity         \t0.567024111748\n",
      "entrepreneurial          \tPeople Skills       \t0.633326232433\n",
      "logic                    \tPeople Skills       \t0.400227308273\n",
      "organization             \tPeople Skills       \t0.482191026211\n",
      "process driven           \tPeople Skills       \t0.777145504951\n",
      "proactive                \tPassion             \t0.582124948502\n"
     ]
    }
   ],
   "source": [
    "# query by competency desc\n",
    "for comp in new_comp_dict:\n",
    "    query = new_comp_dict[comp].lower()\n",
    "    query_bow = dictionary.doc2bow(query.split())\n",
    "    query_lsi = lsi[tfidf[query_bow]]\n",
    "\n",
    "    sims = index[query_lsi]\n",
    "    sims = sorted(enumerate(sims), key=lambda item: -item[1])\n",
    "    print \"{:25}\\t{:20}\\t{}\".format(comp, competencys[sims[0][0]], sims[0][1])"
   ]
  }
 ],
 "metadata": {
  "kernelspec": {
   "display_name": "Python 2",
   "language": "python",
   "name": "python2"
  },
  "language_info": {
   "codemirror_mode": {
    "name": "ipython",
    "version": 2
   },
   "file_extension": ".py",
   "mimetype": "text/x-python",
   "name": "python",
   "nbconvert_exporter": "python",
   "pygments_lexer": "ipython2",
   "version": "2.7.12"
  }
 },
 "nbformat": 4,
 "nbformat_minor": 0
}
