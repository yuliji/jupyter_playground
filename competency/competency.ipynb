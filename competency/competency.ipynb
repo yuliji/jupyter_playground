{
 "cells": [
  {
   "cell_type": "markdown",
   "metadata": {},
   "source": [
    "# Match most similar competency"
   ]
  },
  {
   "cell_type": "markdown",
   "metadata": {},
   "source": [
    "## Existing competencies"
   ]
  },
  {
   "cell_type": "code",
   "execution_count": 2,
   "metadata": {
    "collapsed": true
   },
   "outputs": [],
   "source": [
    "import logging\n",
    "logging.basicConfig(format='%(asctime)s : %(levelname)s : %(message)s', level=logging.INFO)"
   ]
  },
  {
   "cell_type": "code",
   "execution_count": 3,
   "metadata": {
    "collapsed": false
   },
   "outputs": [
    {
     "name": "stdout",
     "output_type": "stream",
     "text": [
      "0:Creativity\n",
      "1:Employee loyalty\n",
      "2:Reliability\n",
      "3:Leadership\n",
      "4:Passion\n",
      "5:People Skills\n",
      "6:Proactivity\n",
      "7:Team Work\n"
     ]
    }
   ],
   "source": [
    "competencys = ['Creativity', 'Employee loyalty', 'Reliability', 'Leadership', 'Passion', 'People Skills', 'Proactivity', 'Team Work']\n",
    "for i in range(8):\n",
    "    print \"{}:{}\".format(i, competencys[i])\n"
   ]
  },
  {
   "cell_type": "code",
   "execution_count": 4,
   "metadata": {
    "collapsed": false
   },
   "outputs": [],
   "source": [
    "descriptions = ['Ability to think in a divergent way, and generate novel ideas.',\n",
    "                'Be committed to the success of the organization and believe that working for this organization is their best option.',\n",
    "                'Ability to performing to perform when needed, finishing projects and meeting deadlines.', \n",
    "                'Ability to engage and facilitate others to create a better result.', \n",
    "                'Desire to provide long-term commitment to their organization, demonstrate peak performance, and maintain increased tenure with the organization. With the intense desire or enthusiasm for the work.', \n",
    "                'Ability to establish social connections and understand the mindset of others.', \n",
    "                'Take the initiative and responsibility in improving business, rather than looking for causes in outside circumstances or other people.',\n",
    "                'Ability to adapt to the needs of a group of people, while supporting the work of others.']"
   ]
  },
  {
   "cell_type": "markdown",
   "metadata": {},
   "source": [
    "## load dictionary and corpus"
   ]
  },
  {
   "cell_type": "code",
   "execution_count": 5,
   "metadata": {
    "collapsed": false
   },
   "outputs": [
    {
     "name": "stdout",
     "output_type": "stream",
     "text": [
      "Dictionary(50920 unique tokens: [u'sucess', u\"cake'\", u'mid-week', u'stallions', u'sonja']...)\n"
     ]
    }
   ],
   "source": [
    "from gensim import corpora, similarities, models\n",
    "\n",
    "dictionary = corpora.Dictionary.load_from_text('/mnt/local/var/seedlink/data/dictionary/dict_en.txt')\n",
    "print(dictionary)"
   ]
  },
  {
   "cell_type": "code",
   "execution_count": 6,
   "metadata": {
    "collapsed": false
   },
   "outputs": [],
   "source": [
    "import codecs\n",
    "import json\n",
    "path = '/mnt/local/var/seedlink/data/nltk_data/corpora/prepcorp/en_cc.json'\n",
    "with codecs.open(path, 'r', 'utf8') as fp:\n",
    "    jdata = fp.read()\n",
    "data = json.loads(jdata)\n",
    "corpus = data"
   ]
  },
  {
   "cell_type": "code",
   "execution_count": 7,
   "metadata": {
    "collapsed": false
   },
   "outputs": [],
   "source": [
    "for i in range(10):\n",
    "    words =  [dictionary[t[0]] for t in corpus[i]]\n",
    "     #print corpus[i]\n",
    "    #print ' '.join(words)"
   ]
  },
  {
   "cell_type": "markdown",
   "metadata": {},
   "source": [
    "## New competency"
   ]
  },
  {
   "cell_type": "code",
   "execution_count": 8,
   "metadata": {
    "collapsed": false
   },
   "outputs": [],
   "source": [
    "new_comp = \"\"\"\n",
    "Charisma\tAble to establish social connections and a broad network\n",
    "Confidence\tActs on his/her own initiative with confidence\n",
    "Creativity\tSeeks change and performs creatively\n",
    "Entrepreneurial\tKeeps aware of both organizational issues and market opportunities\n",
    "Goal Orientated\tWorks systematically and drives the project to its goals\n",
    "Goal Orientation\tWork systematically and drive the project to the target goals\n",
    "Growth Potential\tGrowth Potential\n",
    "Integrity\tActs with integrity and shows social responsibility\n",
    "Intellect\tFlexible application of knowledge to differing contexts\n",
    "Job Performance\tJob Performance\n",
    "Leadership\tIdentifies talents, empowers and motivates other\n",
    "Logic\tLogical thinking and rational analysis\n",
    "Organisation\tSets objectives, balances resources and time, monitors progress\n",
    "Organization\tSets objectives, balances resources and time, monitors progress\n",
    "Performance\tJob Performance\n",
    "Proactive\tProactively deals with ambiguity\n",
    "Process driven\tDemonstrate commitment, accountablity, follow policies and procedures of the organizations\n",
    "Resilient\tCoping and resilient under stressful environment\n",
    "Self motivated\tWork enthusiastically for the achievement of self-development\n",
    "Strategic Competency\tStrategic Competency\n",
    "Strategy\tForesight for potential problems and comes up with appropriate solutions\n",
    "Teamwork\tAdapts to the team; Supports others\n",
    "\"\"\"\n",
    "\n",
    "lines = new_comp.lower().strip().split('\\n')\n",
    "new_comp_dict = {splitted[0]:splitted[1] for splitted in [line.split('\\t') for line in lines]}"
   ]
  },
  {
   "cell_type": "markdown",
   "metadata": {},
   "source": [
    "## Tfidf"
   ]
  },
  {
   "cell_type": "code",
   "execution_count": 9,
   "metadata": {
    "collapsed": false
   },
   "outputs": [],
   "source": [
    "tfidf = models.TfidfModel(corpus)"
   ]
  },
  {
   "cell_type": "code",
   "execution_count": 34,
   "metadata": {
    "collapsed": false
   },
   "outputs": [],
   "source": [
    "desc_bow = [dictionary.doc2bow(desc.lower().split()) for desc in descriptions]\n",
    "desc_tfidf = tfidf[desc_bow]\n",
    "\n",
    "index = similarities.MatrixSimilarity(desc_tfidf) # transform corpus to LSI space and index itb"
   ]
  },
  {
   "cell_type": "code",
   "execution_count": 11,
   "metadata": {
    "collapsed": false
   },
   "outputs": [
    {
     "name": "stdout",
     "output_type": "stream",
     "text": [
      "strategic competency     \tCreativity          \t0.0\n",
      "growth potential         \tCreativity          \t0.0\n",
      "integrity                \tCreativity          \t0.0\n",
      "intellect                \tCreativity          \t0.0\n",
      "confidence               \tCreativity          \t0.0\n",
      "goal orientated          \tCreativity          \t0.0\n",
      "job performance          \tCreativity          \t0.0\n",
      "organisation             \tCreativity          \t0.0\n",
      "creativity               \tCreativity          \t0.0\n",
      "self motivated           \tCreativity          \t0.0\n",
      "strategy                 \tCreativity          \t0.0\n",
      "charisma                 \tCreativity          \t0.0\n",
      "teamwork                 \tCreativity          \t0.0\n",
      "resilient                \tCreativity          \t0.0\n",
      "performance              \tCreativity          \t0.0\n",
      "goal orientation         \tCreativity          \t0.0\n",
      "leadership               \tCreativity          \t0.0\n",
      "entrepreneurial          \tCreativity          \t0.0\n",
      "logic                    \tCreativity          \t0.0\n",
      "organization             \tEmployee loyalty    \t0.842771828175\n",
      "process driven           \tCreativity          \t0.0\n",
      "proactive                \tCreativity          \t0.0\n"
     ]
    }
   ],
   "source": [
    "# query by competency name\n",
    "for comp in new_comp_dict:\n",
    "    query = comp.lower()\n",
    "    query_bow = dictionary.doc2bow(query.split())\n",
    "    query_tfidf = tfidf[query_bow]\n",
    "\n",
    "    sims = index[query_tfidf]\n",
    "    sims = sorted(enumerate(sims), key=lambda item: -item[1])\n",
    "    print \"{:25}\\t{:20}\\t{}\".format(comp, competencys[sims[0][0]], sims[0][1])"
   ]
  },
  {
   "cell_type": "code",
   "execution_count": 14,
   "metadata": {
    "collapsed": false
   },
   "outputs": [
    {
     "name": "stdout",
     "output_type": "stream",
     "text": [
      "strategic competency     \tCreativity          \t0.0\n",
      "growth potential         \tCreativity          \t0.0\n",
      "integrity                \tProactivity         \t0.193758636713\n",
      "intellect                \tTeam Work           \t0.00204158388078\n",
      "confidence               \tProactivity         \t0.395330578089\n",
      "goal orientated          \tLeadership          \t0.00118970533367\n",
      "job performance          \tCreativity          \t0.0\n",
      "organisation             \tCreativity          \t0.00032098844531\n",
      "creativity               \tCreativity          \t0.000327974150423\n",
      "self motivated           \tTeam Work           \t0.0512905456126\n",
      "strategy                 \tPassion             \t0.00524804694578\n",
      "charisma                 \tPeople Skills       \t0.552750945091\n",
      "teamwork                 \tLeadership          \t0.118315845728\n",
      "resilient                \tCreativity          \t0.000263188820099\n",
      "performance              \tCreativity          \t0.0\n",
      "goal orientation         \tTeam Work           \t0.0381039567292\n",
      "leadership               \tProactivity         \t0.0211152695119\n",
      "entrepreneurial          \tTeam Work           \t0.00135675841011\n",
      "logic                    \tCreativity          \t0.000335055403411\n",
      "organization             \tCreativity          \t0.00032098844531\n",
      "process driven           \tPassion             \t0.115609094501\n",
      "proactive                \tPassion             \t0.00542109599337\n"
     ]
    }
   ],
   "source": [
    "# query by competency desc\n",
    "for comp in new_comp_dict:\n",
    "    query = new_comp_dict[comp].lower()\n",
    "    query_bow = dictionary.doc2bow(query.split())\n",
    "    query_tfidf = tfidf[query_bow]\n",
    "\n",
    "    sims = index[query_tfidf]\n",
    "    sims = sorted(enumerate(sims), key=lambda item: -item[1])\n",
    "    print \"{:25}\\t{:20}\\t{}\".format(comp, competencys[sims[0][0]], sims[0][1])"
   ]
  },
  {
   "cell_type": "markdown",
   "metadata": {},
   "source": [
    "## LSI"
   ]
  },
  {
   "cell_type": "code",
   "execution_count": 15,
   "metadata": {
    "collapsed": false
   },
   "outputs": [],
   "source": [
    "lsi = models.LsiModel(tfidf[corpus], id2word=dictionary, num_topics=300)"
   ]
  },
  {
   "cell_type": "code",
   "execution_count": 16,
   "metadata": {
    "collapsed": true
   },
   "outputs": [],
   "source": [
    "lsi.add_documents(desc_tfidf)"
   ]
  },
  {
   "cell_type": "code",
   "execution_count": 17,
   "metadata": {
    "collapsed": true
   },
   "outputs": [],
   "source": [
    "index = similarities.MatrixSimilarity(lsi[desc_tfidf]) # transform corpus to LSI space and index it"
   ]
  },
  {
   "cell_type": "code",
   "execution_count": 18,
   "metadata": {
    "collapsed": false
   },
   "outputs": [
    {
     "name": "stdout",
     "output_type": "stream",
     "text": [
      "strategic competency     \tReliability         \t0.16094648838\n",
      "growth potential         \tPassion             \t0.0644728988409\n",
      "integrity                \tPassion             \t0.163791120052\n",
      "intellect                \tReliability         \t0.107082344592\n",
      "confidence               \tPassion             \t0.158602669835\n",
      "goal orientated          \tEmployee loyalty    \t0.187772765756\n",
      "job performance          \tEmployee loyalty    \t0.0336804315448\n",
      "organisation             \tTeam Work           \t0.0867025107145\n",
      "creativity               \tPeople Skills       \t0.103887081146\n",
      "self motivated           \tLeadership          \t0.0814848914742\n",
      "strategy                 \tTeam Work           \t0.142499417067\n",
      "charisma                 \tPeople Skills       \t0.134117424488\n",
      "teamwork                 \tProactivity         \t0.0475586280227\n",
      "resilient                \tTeam Work           \t0.0936880260706\n",
      "performance              \tEmployee loyalty    \t0.0185290426016\n",
      "goal orientation         \tEmployee loyalty    \t0.187408268452\n",
      "leadership               \tReliability         \t0.139645606279\n",
      "entrepreneurial          \tCreativity          \t0.0640287399292\n",
      "logic                    \tTeam Work           \t0.078858345747\n",
      "organization             \tEmployee loyalty    \t0.308946192265\n",
      "process driven           \tProactivity         \t0.085776142776\n",
      "proactive                \tCreativity          \t0.0\n"
     ]
    }
   ],
   "source": [
    "# query by competency name\n",
    "for comp in new_comp_dict:\n",
    "    query = comp.lower()\n",
    "    query_bow = dictionary.doc2bow(query.split())\n",
    "    query_lsi = lsi[tfidf[query_bow]]\n",
    "\n",
    "    sims = index[query_lsi]\n",
    "    sims = sorted(enumerate(sims), key=lambda item: -item[1])\n",
    "    print \"{:25}\\t{:20}\\t{}\".format(comp, competencys[sims[0][0]], sims[0][1])"
   ]
  },
  {
   "cell_type": "code",
   "execution_count": 19,
   "metadata": {
    "collapsed": false
   },
   "outputs": [
    {
     "name": "stdout",
     "output_type": "stream",
     "text": [
      "strategic competency     \tReliability         \t0.16094648838\n",
      "growth potential         \tPassion             \t0.0644728988409\n",
      "integrity                \tPassion             \t0.440464019775\n",
      "intellect                \tPeople Skills       \t0.719145953655\n",
      "confidence               \tPassion             \t0.232585817575\n",
      "goal orientated          \tPeople Skills       \t0.240231990814\n",
      "job performance          \tEmployee loyalty    \t0.0336804315448\n",
      "organisation             \tPeople Skills       \t0.304395973682\n",
      "creativity               \tPeople Skills       \t0.32253241539\n",
      "self motivated           \tTeam Work           \t0.597432136536\n",
      "strategy                 \tPassion             \t0.308161914349\n",
      "charisma                 \tPeople Skills       \t0.614012718201\n",
      "teamwork                 \tPeople Skills       \t0.557689547539\n",
      "resilient                \tPeople Skills       \t0.349830627441\n",
      "performance              \tEmployee loyalty    \t0.0336804315448\n",
      "goal orientation         \tTeam Work           \t0.617725491524\n",
      "leadership               \tProactivity         \t0.411670565605\n",
      "entrepreneurial          \tPeople Skills       \t0.182331830263\n",
      "logic                    \tPeople Skills       \t0.320987403393\n",
      "organization             \tPeople Skills       \t0.304395973682\n",
      "process driven           \tPeople Skills       \t0.636801302433\n",
      "proactive                \tPassion             \t0.564535617828\n"
     ]
    }
   ],
   "source": [
    "# query by competency desc\n",
    "for comp in new_comp_dict:\n",
    "    query = new_comp_dict[comp].lower()\n",
    "    query_bow = dictionary.doc2bow(query.split())\n",
    "    query_lsi = lsi[tfidf[query_bow]]\n",
    "\n",
    "    sims = index[query_lsi]\n",
    "    sims = sorted(enumerate(sims), key=lambda item: -item[1])\n",
    "    print \"{:25}\\t{:20}\\t{}\".format(comp, competencys[sims[0][0]], sims[0][1])"
   ]
  }
 ],
 "metadata": {
  "kernelspec": {
   "display_name": "Python 2",
   "language": "python",
   "name": "python2"
  },
  "language_info": {
   "codemirror_mode": {
    "name": "ipython",
    "version": 2
   },
   "file_extension": ".py",
   "mimetype": "text/x-python",
   "name": "python",
   "nbconvert_exporter": "python",
   "pygments_lexer": "ipython2",
   "version": "2.7.12"
  }
 },
 "nbformat": 4,
 "nbformat_minor": 0
}
