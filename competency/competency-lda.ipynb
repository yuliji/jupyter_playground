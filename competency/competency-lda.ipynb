{
 "cells": [
  {
   "cell_type": "markdown",
   "metadata": {},
   "source": [
    "# Match most similar competency"
   ]
  },
  {
   "cell_type": "markdown",
   "metadata": {},
   "source": [
    "## Existing competencies"
   ]
  },
  {
   "cell_type": "code",
   "execution_count": 20,
   "metadata": {
    "collapsed": true
   },
   "outputs": [],
   "source": [
    "import logging\n",
    "logging.basicConfig(format='%(asctime)s : %(levelname)s : %(message)s', level=logging.INFO)"
   ]
  },
  {
   "cell_type": "code",
   "execution_count": 21,
   "metadata": {
    "collapsed": false
   },
   "outputs": [
    {
     "name": "stdout",
     "output_type": "stream",
     "text": [
      "0:Creativity\n",
      "1:Employee loyalty\n",
      "2:Reliability\n",
      "3:Leadership\n",
      "4:Passion\n",
      "5:People Skills\n",
      "6:Proactivity\n",
      "7:Team Work\n"
     ]
    }
   ],
   "source": [
    "competencys = ['Creativity', 'Employee loyalty', 'Reliability', 'Leadership', 'Passion', 'People Skills', 'Proactivity', 'Team Work']\n",
    "for i in range(8):\n",
    "    print \"{}:{}\".format(i, competencys[i])\n"
   ]
  },
  {
   "cell_type": "code",
   "execution_count": 22,
   "metadata": {
    "collapsed": false
   },
   "outputs": [],
   "source": [
    "descriptions = ['Ability to think in a divergent way, and generate novel ideas.',\n",
    "                'Be committed to the success of the organization and believe that working for this organization is their best option.',\n",
    "                'Ability to performing to perform when needed, finishing projects and meeting deadlines.', \n",
    "                'Ability to engage and facilitate others to create a better result.', \n",
    "                'Desire to provide long-term commitment to their organization, demonstrate peak performance, and maintain increased tenure with the organization. With the intense desire or enthusiasm for the work.', \n",
    "                'Ability to establish social connections and understand the mindset of others.', \n",
    "                'Take the initiative and responsibility in improving business, rather than looking for causes in outside circumstances or other people.',\n",
    "                'Ability to adapt to the needs of a group of people, while supporting the work of others.']"
   ]
  },
  {
   "cell_type": "markdown",
   "metadata": {},
   "source": [
    "## load dictionary and corpus"
   ]
  },
  {
   "cell_type": "code",
   "execution_count": 23,
   "metadata": {
    "collapsed": false
   },
   "outputs": [
    {
     "name": "stdout",
     "output_type": "stream",
     "text": [
      "Dictionary(50920 unique tokens: [u'sucess', u\"cake'\", u'mid-week', u'stallions', u'sonja']...)\n"
     ]
    }
   ],
   "source": [
    "from gensim import corpora, similarities, models\n",
    "\n",
    "dictionary = corpora.Dictionary.load_from_text('/mnt/local/var/seedlink/data/dictionary/dict_en.txt')\n",
    "print(dictionary)"
   ]
  },
  {
   "cell_type": "code",
   "execution_count": 24,
   "metadata": {
    "collapsed": false
   },
   "outputs": [],
   "source": [
    "import codecs\n",
    "import json\n",
    "path = '/mnt/local/var/seedlink/data/nltk_data/corpora/prepcorp/en_cc.json'\n",
    "with codecs.open(path, 'r', 'utf8') as fp:\n",
    "    jdata = fp.read()\n",
    "data = json.loads(jdata)\n",
    "corpus = data"
   ]
  },
  {
   "cell_type": "code",
   "execution_count": 25,
   "metadata": {
    "collapsed": false
   },
   "outputs": [],
   "source": [
    "for i in range(10):\n",
    "    words =  [dictionary[t[0]] for t in corpus[i]]\n",
    "     #print corpus[i]\n",
    "    #print ' '.join(words)"
   ]
  },
  {
   "cell_type": "markdown",
   "metadata": {},
   "source": [
    "## New competency"
   ]
  },
  {
   "cell_type": "code",
   "execution_count": 26,
   "metadata": {
    "collapsed": false
   },
   "outputs": [
    {
     "data": {
      "text/plain": [
       "{'charisma': 'able to establish social connections and a broad network',\n",
       " 'confidence': 'acts on his/her own initiative with confidence',\n",
       " 'creativity': 'seeks change and performs creatively',\n",
       " 'entrepreneurial': 'keeps aware of both organizational issues and market opportunities',\n",
       " 'goal orientated': 'works systematically and drives the project to its goals',\n",
       " 'goal orientation': 'work systematically and drive the project to the target goals',\n",
       " 'growth potential': 'growth potential',\n",
       " 'integrity': 'acts with integrity and shows social responsibility',\n",
       " 'intellect': 'flexible application of knowledge to differing contexts',\n",
       " 'job performance': 'job performance',\n",
       " 'leadership': 'identifies talents, empowers and motivates other',\n",
       " 'logic': 'logical thinking and rational analysis',\n",
       " 'organisation': 'sets objectives, balances resources and time, monitors progress',\n",
       " 'organization': 'sets objectives, balances resources and time, monitors progress',\n",
       " 'performance': 'job performance',\n",
       " 'proactive': 'proactively deals with ambiguity',\n",
       " 'process driven': 'demonstrate commitment, accountablity, follow policies and procedures of the organizations',\n",
       " 'resilient': 'coping and resilient under stressful environment',\n",
       " 'self motivated': 'work enthusiastically for the achievement of self-development',\n",
       " 'strategic competency': 'strategic competency',\n",
       " 'strategy': 'foresight for potential problems and comes up with appropriate solutions',\n",
       " 'teamwork': 'adapts to the team; supports others'}"
      ]
     },
     "execution_count": 26,
     "metadata": {},
     "output_type": "execute_result"
    }
   ],
   "source": [
    "new_comp = \"\"\"\n",
    "Charisma\tAble to establish social connections and a broad network\n",
    "Confidence\tActs on his/her own initiative with confidence\n",
    "Creativity\tSeeks change and performs creatively\n",
    "Entrepreneurial\tKeeps aware of both organizational issues and market opportunities\n",
    "Goal Orientated\tWorks systematically and drives the project to its goals\n",
    "Goal Orientation\tWork systematically and drive the project to the target goals\n",
    "Growth Potential\tGrowth Potential\n",
    "Integrity\tActs with integrity and shows social responsibility\n",
    "Intellect\tFlexible application of knowledge to differing contexts\n",
    "Job Performance\tJob Performance\n",
    "Leadership\tIdentifies talents, empowers and motivates other\n",
    "Logic\tLogical thinking and rational analysis\n",
    "Organisation\tSets objectives, balances resources and time, monitors progress\n",
    "Organization\tSets objectives, balances resources and time, monitors progress\n",
    "Performance\tJob Performance\n",
    "Proactive\tProactively deals with ambiguity\n",
    "Process driven\tDemonstrate commitment, accountablity, follow policies and procedures of the organizations\n",
    "Resilient\tCoping and resilient under stressful environment\n",
    "Self motivated\tWork enthusiastically for the achievement of self-development\n",
    "Strategic Competency\tStrategic Competency\n",
    "Strategy\tForesight for potential problems and comes up with appropriate solutions\n",
    "Teamwork\tAdapts to the team; Supports others\n",
    "\"\"\"\n",
    "\n",
    "lines = new_comp.lower().strip().split('\\n')\n",
    "new_comp_dict = {splitted[0]:splitted[1] for splitted in [line.split('\\t') for line in lines]}\n",
    "new_comp_dict"
   ]
  },
  {
   "cell_type": "markdown",
   "metadata": {},
   "source": [
    "## Tfidf"
   ]
  },
  {
   "cell_type": "code",
   "execution_count": 27,
   "metadata": {
    "collapsed": false
   },
   "outputs": [],
   "source": [
    "tfidf = models.TfidfModel(corpus)"
   ]
  },
  {
   "cell_type": "code",
   "execution_count": 28,
   "metadata": {
    "collapsed": false
   },
   "outputs": [],
   "source": [
    "desc_bow = [dictionary.doc2bow(desc.lower().split()) for desc in descriptions]\n",
    "desc_tfidf = tfidf[desc_bow]"
   ]
  },
  {
   "cell_type": "markdown",
   "metadata": {},
   "source": [
    "## LDA"
   ]
  },
  {
   "cell_type": "code",
   "execution_count": 29,
   "metadata": {
    "collapsed": false
   },
   "outputs": [],
   "source": [
    "# lda = models.LdaModel(tfidf[corpus], num_topics=100, id2word=dictionary)"
   ]
  },
  {
   "cell_type": "code",
   "execution_count": 30,
   "metadata": {
    "collapsed": true
   },
   "outputs": [],
   "source": [
    "#lda.save('/tmp/competency-100-orig.lda')\n",
    "lda = models.LdaModel.load('/tmp/competency-100-orig.lda')"
   ]
  },
  {
   "cell_type": "code",
   "execution_count": 31,
   "metadata": {
    "collapsed": false
   },
   "outputs": [
    {
     "name": "stdout",
     "output_type": "stream",
     "text": [
      "LdaModel(num_terms=50920, num_topics=100, decay=0.5, chunksize=2000)\n"
     ]
    }
   ],
   "source": [
    "print lda"
   ]
  },
  {
   "cell_type": "code",
   "execution_count": 33,
   "metadata": {
    "collapsed": false
   },
   "outputs": [],
   "source": [
    "lda.update(desc_tfidf)"
   ]
  },
  {
   "cell_type": "code",
   "execution_count": 34,
   "metadata": {
    "collapsed": false
   },
   "outputs": [
    {
     "data": {
      "text/plain": [
       "[(82,\n",
       "  u'0.025*\"rather\" + 0.017*\"house\" + 0.016*\"committed\" + 0.016*\"big\" + 0.014*\"somewhat\" + 0.013*\"improving\" + 0.011*\"fascinating\" + 0.010*\"imagination\" + 0.010*\"screen\" + 0.010*\"tried\"'),\n",
       " (9,\n",
       "  u'0.036*\"black\" + 0.030*\"side\" + 0.028*\"woman\" + 0.025*\"guy\" + 0.025*\"perform\" + 0.024*\"cop\" + 0.021*\"features\" + 0.020*\"white\" + 0.019*\"bunch\" + 0.018*\"old\"'),\n",
       " (61,\n",
       "  u'0.012*\"to\" + 0.011*\"the\" + 0.011*\"looked\" + 0.011*\"performing\" + 0.011*\"force\" + 0.010*\"that\" + 0.010*\"a\" + 0.010*\"of\" + 0.009*\"and\" + 0.009*\"waiting\"'),\n",
       " (19,\n",
       "  u'0.026*\"desire\" + 0.020*\"violence\" + 0.019*\"money\" + 0.018*\"contains\" + 0.016*\"e\" + 0.016*\"desperate\" + 0.014*\"trip\" + 0.013*\"empty\" + 0.013*\"suffering\" + 0.011*\"families\"'),\n",
       " (51,\n",
       "  u'0.021*\"wants\" + 0.015*\"minute\" + 0.012*\"to\" + 0.011*\"a\" + 0.010*\"ride\" + 0.010*\"minor\" + 0.009*\"of\" + 0.009*\"the\" + 0.009*\"as\" + 0.009*\"and\"')]"
      ]
     },
     "execution_count": 34,
     "metadata": {},
     "output_type": "execute_result"
    }
   ],
   "source": [
    "lda.print_topics(5)"
   ]
  },
  {
   "cell_type": "code",
   "execution_count": 35,
   "metadata": {
    "collapsed": true
   },
   "outputs": [],
   "source": [
    "index = similarities.MatrixSimilarity(lda[desc_tfidf]) # lda model"
   ]
  },
  {
   "cell_type": "code",
   "execution_count": 36,
   "metadata": {
    "collapsed": false
   },
   "outputs": [
    {
     "name": "stdout",
     "output_type": "stream",
     "text": [
      "[(3, 1), (4, 1), (14, 1), (1588, 1), (3670, 1), (6227, 1), (9190, 1), (12257, 1), (15255, 1)]\n"
     ]
    }
   ],
   "source": [
    "query = 'Able to establish social connections and a broad network'.lower()\n",
    "query_bow = dictionary.doc2bow(query.split())\n",
    "print query_bow\n",
    "query_lda = lda[tfidf[query_bow]]\n",
    "query_lda\n",
    "sims = index[query_lda]\n"
   ]
  },
  {
   "cell_type": "code",
   "execution_count": 37,
   "metadata": {
    "collapsed": false
   },
   "outputs": [
    {
     "data": {
      "text/plain": [
       "'Leadership'"
      ]
     },
     "execution_count": 37,
     "metadata": {},
     "output_type": "execute_result"
    }
   ],
   "source": [
    "competencys[3]"
   ]
  },
  {
   "cell_type": "code",
   "execution_count": 38,
   "metadata": {
    "collapsed": false
   },
   "outputs": [
    {
     "name": "stdout",
     "output_type": "stream",
     "text": [
      "strategic competency     \tPassion             \t0.17106346786\n",
      "growth potential         \tReliability         \t0.352613568306\n",
      "integrity                \tCreativity          \t0.0\n",
      "intellect                \tProactivity         \t0.135641306639\n",
      "confidence               \tCreativity          \t0.0\n",
      "goal orientated          \tEmployee loyalty    \t0.407724529505\n",
      "job performance          \tCreativity          \t0.0\n",
      "organisation             \tCreativity          \t0.732443153858\n",
      "creativity               \tCreativity          \t0.0\n",
      "self motivated           \tProactivity         \t0.708008766174\n",
      "strategy                 \tCreativity          \t0.0\n",
      "charisma                 \tPassion             \t0.290378719568\n",
      "teamwork                 \tCreativity          \t0.0\n",
      "resilient                \tCreativity          \t0.0\n",
      "performance              \tCreativity          \t0.0\n",
      "goal orientation         \tCreativity          \t0.38825944066\n",
      "leadership               \tCreativity          \t0.0\n",
      "entrepreneurial          \tCreativity          \t0.0\n",
      "logic                    \tCreativity          \t0.0\n",
      "organization             \tEmployee loyalty    \t0.830149173737\n",
      "process driven           \tProactivity         \t0.0940037220716\n",
      "proactive                \tCreativity          \t0.0\n"
     ]
    }
   ],
   "source": [
    "# query by competency name\n",
    "for comp in new_comp_dict:\n",
    "    query = comp.lower()\n",
    "    query_bow = dictionary.doc2bow(query.split())\n",
    "    query_lda = lda[tfidf[query_bow]]\n",
    "\n",
    "    sims = index[query_lda]\n",
    "    sims = sorted(enumerate(sims), key=lambda item: -item[1])\n",
    "    print \"{:25}\\t{:20}\\t{}\".format(comp, competencys[sims[0][0]], sims[0][1])"
   ]
  },
  {
   "cell_type": "code",
   "execution_count": 39,
   "metadata": {
    "collapsed": false
   },
   "outputs": [
    {
     "name": "stdout",
     "output_type": "stream",
     "text": [
      "strategic competency     \tPassion             \t0.17106346786\n",
      "growth potential         \tReliability         \t0.352613568306\n",
      "integrity                \tProactivity         \t0.230119466782\n",
      "intellect                \tReliability         \t0.205659434199\n",
      "confidence               \tProactivity         \t0.333422660828\n",
      "goal orientated          \tProactivity         \t0.148420244455\n",
      "job performance          \tCreativity          \t0.0\n",
      "organisation             \tProactivity         \t0.524779200554\n",
      "creativity               \tPassion             \t0.0973034501076\n",
      "self motivated           \tTeam Work           \t0.287574052811\n",
      "strategy                 \tEmployee loyalty    \t0.349288731813\n",
      "charisma                 \tPeople Skills       \t0.514896392822\n",
      "teamwork                 \tLeadership          \t0.251204460859\n",
      "resilient                \tPassion             \t0.122710265219\n",
      "performance              \tCreativity          \t0.0\n",
      "goal orientation         \tProactivity         \t0.215130850673\n",
      "leadership               \tProactivity         \t0.823210060596\n",
      "entrepreneurial          \tReliability         \t0.237892404199\n",
      "logic                    \tLeadership          \t0.221532925963\n",
      "organization             \tProactivity         \t0.524776697159\n",
      "process driven           \tReliability         \t0.179453089833\n",
      "proactive                \tProactivity         \t0.173188149929\n"
     ]
    }
   ],
   "source": [
    "# query by competency desc\n",
    "for comp in new_comp_dict:\n",
    "    query = new_comp_dict[comp].lower()\n",
    "    query_bow = dictionary.doc2bow(query.split())\n",
    "    query_lda = lda[tfidf[query_bow]]\n",
    "\n",
    "    sims = index[query_lda]\n",
    "    sims = sorted(enumerate(sims), key=lambda item: -item[1])\n",
    "    print \"{:25}\\t{:20}\\t{}\".format(comp, competencys[sims[0][0]], sims[0][1])"
   ]
  }
 ],
 "metadata": {
  "kernelspec": {
   "display_name": "Python 2",
   "language": "python",
   "name": "python2"
  },
  "language_info": {
   "codemirror_mode": {
    "name": "ipython",
    "version": 2
   },
   "file_extension": ".py",
   "mimetype": "text/x-python",
   "name": "python",
   "nbconvert_exporter": "python",
   "pygments_lexer": "ipython2",
   "version": "2.7.12"
  }
 },
 "nbformat": 4,
 "nbformat_minor": 0
}
