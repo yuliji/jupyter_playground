{
 "cells": [
  {
   "cell_type": "code",
   "execution_count": 1,
   "metadata": {
    "collapsed": false
   },
   "outputs": [],
   "source": [
    "import gensim, logging\n",
    "logging.basicConfig(format='%(asctime)s : %(levelname)s : %(message)s', level=logging.INFO)\n",
    "\n",
    "model = gensim.models.Word2Vec.load_word2vec_format('/Users/yuliji/Downloads/GoogleNews-vectors-negative300.bin', binary=True)  "
   ]
  },
  {
   "cell_type": "code",
   "execution_count": 2,
   "metadata": {
    "collapsed": false
   },
   "outputs": [],
   "source": [
    "phrase = gensim.models.phrases.Phraser.load('corpus/phrase.model')"
   ]
  },
  {
   "cell_type": "code",
   "execution_count": 3,
   "metadata": {
    "collapsed": false
   },
   "outputs": [],
   "source": [
    "competency = {'creativity': 'ability to think in a divergent way, and generate novel ideas.',\n",
    " 'employee loyalty': 'be committed to the success of the organization and believe that working for this organization is their best option.',\n",
    " 'leadership': 'ability to engage and facilitate others to create a better result.',\n",
    " 'passion': 'desire to provide long-term commitment to their organization, demonstrate peak performance, and maintain increased tenure with the organization. with the intense desire or enthusiasm for the work.',\n",
    " 'people skills': 'ability to establish social connections and understand the mindset of others.',\n",
    " 'proactivity': 'take the initiative and responsibility in improving business, rather than looking for causes in outside circumstances or other people.',\n",
    " 'reliability': 'ability to performing to perform when needed, finishing projects and meeting deadlines.',\n",
    " 'teamwork': 'ability to adapt to the needs of a group of people, while supporting the work of others.'}"
   ]
  },
  {
   "cell_type": "code",
   "execution_count": 4,
   "metadata": {
    "collapsed": false
   },
   "outputs": [
    {
     "data": {
      "text/plain": [
       "{'charisma': 'able to establish social connections and a broad network',\n",
       " 'confidence': 'acts on his/her own initiative with confidence',\n",
       " 'creativity': 'seeks change and performs creatively',\n",
       " 'entrepreneurial': 'keeps aware of both organizational issues and market opportunities',\n",
       " 'goal orientated': 'works systematically and drives the project to its goals',\n",
       " 'goal orientation': 'work systematically and drive the project to the target goals',\n",
       " 'growth potential': 'growth potential',\n",
       " 'integrity': 'acts with integrity and shows social responsibility',\n",
       " 'intellect': 'flexible application of knowledge to differing contexts',\n",
       " 'job performance': 'job performance',\n",
       " 'leadership': 'identifies talents empowers and motivates other',\n",
       " 'logic': 'logical thinking and rational analysis',\n",
       " 'organisation': 'sets objectives balances resources and time monitors progress',\n",
       " 'organization': 'sets objectives balances resources and time monitors progress',\n",
       " 'performance': 'job performance',\n",
       " 'proactive': 'proactively deals with ambiguity',\n",
       " 'process driven': 'demonstrate commitment accountablity follow policies and procedures of the organizations',\n",
       " 'resilient': 'coping and resilient under stressful environment',\n",
       " 'self motivated': 'work enthusiastically for the achievement of self-development',\n",
       " 'strategic competency': 'strategic competency',\n",
       " 'strategy': 'foresight for potential problems and comes up with appropriate solutions',\n",
       " 'teamwork': 'adapts to the team; supports others'}"
      ]
     },
     "execution_count": 4,
     "metadata": {},
     "output_type": "execute_result"
    }
   ],
   "source": [
    "new_comp = \"\"\"\n",
    "Charisma\tAble to establish social connections and a broad network\n",
    "Confidence\tActs on his/her own initiative with confidence\n",
    "Creativity\tSeeks change and performs creatively\n",
    "Entrepreneurial\tKeeps aware of both organizational issues and market opportunities\n",
    "Goal Orientated\tWorks systematically and drives the project to its goals\n",
    "Goal Orientation\tWork systematically and drive the project to the target goals\n",
    "Growth Potential\tGrowth Potential\n",
    "Integrity\tActs with integrity and shows social responsibility\n",
    "Intellect\tFlexible application of knowledge to differing contexts\n",
    "Job Performance\tJob Performance\n",
    "Leadership\tIdentifies talents, empowers and motivates other\n",
    "Logic\tLogical thinking and rational analysis\n",
    "Organisation\tSets objectives, balances resources and time, monitors progress\n",
    "Organization\tSets objectives, balances resources and time, monitors progress\n",
    "Performance\tJob Performance\n",
    "Proactive\tProactively deals with ambiguity\n",
    "Process driven\tDemonstrate commitment, accountablity, follow policies and procedures of the organizations\n",
    "Resilient\tCoping and resilient under stressful environment\n",
    "Self motivated\tWork enthusiastically for the achievement of self-development\n",
    "Strategic Competency\tStrategic Competency\n",
    "Strategy\tForesight for potential problems and comes up with appropriate solutions\n",
    "Teamwork\tAdapts to the team; Supports others\n",
    "\"\"\"\n",
    "\n",
    "lines = new_comp.lower().strip().split('\\n')\n",
    "new_comp_dict = {splitted[0] : splitted[1] for splitted in [line.split('\\t') for line in lines]}\n",
    "for c in new_comp_dict:\n",
    "    new_comp_dict[c] = new_comp_dict[c].replace(',', '')\n",
    "new_comp_dict"
   ]
  },
  {
   "cell_type": "code",
   "execution_count": 5,
   "metadata": {
    "collapsed": false
   },
   "outputs": [
    {
     "name": "stdout",
     "output_type": "stream",
     "text": [
      "strategic competency\tleadership          \t3.21210779994\n",
      "growth potential    \tleadership          \t3.35916465451\n",
      "integrity           \tleadership          \t3.2762556076\n",
      "intellect           \tcreativity          \t3.13784456253\n",
      "confidence          \tleadership          \t3.30318880081\n",
      "goal orientated     \tleadership          \t3.60245846185\n",
      "job performance     \tleadership          \t3.19914836074\n",
      "organisation        \tleadership          \tinf\n",
      "creativity          \tpassion             \t2.83912777901\n",
      "self motivated      \tpeople skills       \t3.52965915236\n",
      "strategy            \tleadership          \t2.94924259186\n",
      "charisma            \tpassion             \t3.48349285126\n",
      "teamwork            \tcreativity          \t3.14834094048\n",
      "resilient           \tleadership          \t3.70124220848\n",
      "performance         \treliability         \t3.21678972244\n",
      "goal orientation    \tleadership          \t3.42289945092\n",
      "leadership          \tproactivity         \t3.00379109383\n",
      "entrepreneurial     \tcreativity          \t2.99344134331\n",
      "logic               \tproactivity         \t3.40862178802\n",
      "organization        \tleadership          \t2.76584982872\n",
      "process driven      \tleadership          \t3.31027690539\n",
      "proactive           \tproactivity         \t2.99257779121\n"
     ]
    }
   ],
   "source": [
    "for nc in new_comp_dict:\n",
    "    # print nc\n",
    "    query = nc.lower().split()\n",
    "    # print query\n",
    "    sims = [[model.wmdistance(query, c.split()), c] for c in competency]\n",
    "    # print sims\n",
    "    sorted_sims = sorted(sims, key=lambda x: x[0])\n",
    "    #print sorted_sims\n",
    "    print \"{:20}\\t{:20}\\t{}\".format(nc, sorted_sims[0][1], sorted_sims[0][0])"
   ]
  },
  {
   "cell_type": "code",
   "execution_count": 6,
   "metadata": {
    "collapsed": false
   },
   "outputs": [
    {
     "data": {
      "text/plain": [
       "array([ 0.07861328, -0.14648438, -0.02453613,  0.19628906,  0.14550781,\n",
       "       -0.01977539,  0.18261719, -0.29296875, -0.05029297, -0.0625    ,\n",
       "       -0.125     , -0.08056641,  0.21289062, -0.14550781, -0.10253906,\n",
       "       -0.11572266,  0.17089844,  0.22265625, -0.19042969, -0.03881836,\n",
       "       -0.02062988, -0.19726562, -0.109375  ,  0.30078125,  0.07275391,\n",
       "       -0.05908203,  0.2734375 , -0.20214844,  0.15625   , -0.02905273,\n",
       "       -0.33789062,  0.04199219,  0.10351562,  0.23046875,  0.13183594,\n",
       "       -0.01165771,  0.10205078,  0.0859375 ,  0.06494141,  0.12597656,\n",
       "        0.1875    ,  0.10742188, -0.17578125,  0.08398438,  0.07080078,\n",
       "        0.07666016, -0.10986328,  0.203125  ,  0.00756836,  0.36328125,\n",
       "       -0.26171875,  0.33007812, -0.12158203,  0.09423828,  0.17285156,\n",
       "        0.09326172,  0.08984375, -0.29882812, -0.13867188,  0.06152344,\n",
       "        0.20410156, -0.15136719,  0.01586914, -0.28320312, -0.27148438,\n",
       "       -0.2421875 ,  0.08203125, -0.03979492,  0.19433594,  0.22167969,\n",
       "       -0.16503906, -0.25      ,  0.05639648, -0.07421875, -0.11572266,\n",
       "       -0.13769531, -0.01623535,  0.14453125, -0.11523438,  0.14941406,\n",
       "       -0.06103516, -0.01538086,  0.0378418 , -0.07763672,  0.06494141,\n",
       "       -0.07861328,  0.0612793 ,  0.48632812,  0.01867676, -0.05712891,\n",
       "        0.06445312, -0.12890625, -0.3515625 , -0.34570312,  0.11523438,\n",
       "       -0.21484375, -0.14355469,  0.36914062, -0.09082031,  0.03088379,\n",
       "        0.06689453,  0.04296875,  0.00302124,  0.12695312,  0.05566406,\n",
       "       -0.13476562,  0.05517578,  0.01831055,  0.07617188, -0.19042969,\n",
       "       -0.08886719,  0.234375  , -0.20996094,  0.00946045,  0.26953125,\n",
       "       -0.18945312,  0.16308594, -0.35742188,  0.13574219, -0.28710938,\n",
       "       -0.18554688, -0.02502441,  0.04296875,  0.31835938, -0.01013184,\n",
       "        0.05444336, -0.2265625 ,  0.13671875, -0.27929688,  0.04272461,\n",
       "       -0.1640625 , -0.04003906, -0.23730469,  0.11083984,  0.015625  ,\n",
       "        0.20996094,  0.13769531, -0.15429688,  0.00741577, -0.06152344,\n",
       "       -0.08740234, -0.2734375 , -0.26953125,  0.01623535, -0.06445312,\n",
       "       -0.01373291,  0.12792969,  0.2265625 ,  0.10498047, -0.23535156,\n",
       "        0.05175781,  0.20703125,  0.12597656,  0.3203125 ,  0.02319336,\n",
       "       -0.17285156,  0.22363281, -0.5078125 , -0.14550781, -0.25390625,\n",
       "       -0.01196289, -0.07568359, -0.37695312,  0.36328125,  0.17578125,\n",
       "       -0.12402344,  0.19238281, -0.08837891, -0.0246582 , -0.16601562,\n",
       "        0.00297546,  0.11279297, -0.25585938,  0.1015625 , -0.08886719,\n",
       "        0.19238281,  0.15917969, -0.13867188, -0.06347656, -0.18652344,\n",
       "       -0.17773438,  0.09619141,  0.11523438, -0.14257812, -0.06298828,\n",
       "       -0.09179688, -0.01391602, -0.29882812,  0.13867188, -0.07470703,\n",
       "       -0.13085938,  0.03613281,  0.18652344, -0.02160645, -0.18164062,\n",
       "       -0.20605469, -0.18652344, -0.02954102, -0.21875   , -0.21289062,\n",
       "       -0.1328125 ,  0.17773438, -0.02331543, -0.10009766, -0.0402832 ,\n",
       "       -0.12304688, -0.12402344,  0.09179688, -0.09228516, -0.15429688,\n",
       "       -0.18457031, -0.13671875, -0.13769531,  0.09228516, -0.03491211,\n",
       "       -0.20019531,  0.13671875,  0.14648438, -0.20507812,  0.28710938,\n",
       "       -0.31835938, -0.17089844,  0.03271484,  0.00866699, -0.36328125,\n",
       "        0.30664062, -0.0039978 , -0.01342773, -0.00247192,  0.17480469,\n",
       "       -0.33398438,  0.21777344, -0.2734375 ,  0.18847656, -0.11425781,\n",
       "       -0.23339844,  0.29882812, -0.04199219,  0.27148438, -0.04003906,\n",
       "       -0.06347656, -0.18066406, -0.22558594, -0.05029297,  0.06494141,\n",
       "        0.13574219, -0.18847656, -0.05200195,  0.21289062, -0.16210938,\n",
       "        0.08789062,  0.02270508, -0.04467773,  0.421875  ,  0.15429688,\n",
       "       -0.29296875, -0.05322266,  0.08105469, -0.06787109, -0.03173828,\n",
       "       -0.05151367,  0.11132812, -0.27148438,  0.22460938, -0.08886719,\n",
       "        0.22265625,  0.13378906, -0.05883789, -0.14355469, -0.10107422,\n",
       "       -0.24023438,  0.11328125,  0.07080078, -0.19238281,  0.13378906,\n",
       "        0.08349609, -0.16894531,  0.06835938, -0.12158203,  0.13964844,\n",
       "       -0.06347656,  0.10400391,  0.15625   , -0.04345703,  0.05395508,\n",
       "        0.18164062,  0.05761719,  0.22167969,  0.11523438,  0.21484375,\n",
       "       -0.21289062, -0.08105469, -0.22558594, -0.2421875 , -0.23144531,\n",
       "       -0.06933594,  0.32226562, -0.13476562, -0.14453125,  0.02490234], dtype=float32)"
      ]
     },
     "execution_count": 6,
     "metadata": {},
     "output_type": "execute_result"
    }
   ],
   "source": [
    "model['creativity']"
   ]
  }
 ],
 "metadata": {
  "kernelspec": {
   "display_name": "Python 2",
   "language": "python",
   "name": "python2"
  },
  "language_info": {
   "codemirror_mode": {
    "name": "ipython",
    "version": 2
   },
   "file_extension": ".py",
   "mimetype": "text/x-python",
   "name": "python",
   "nbconvert_exporter": "python",
   "pygments_lexer": "ipython2",
   "version": "2.7.12"
  }
 },
 "nbformat": 4,
 "nbformat_minor": 0
}
