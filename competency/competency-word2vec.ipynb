{
 "cells": [
  {
   "cell_type": "code",
   "execution_count": 1,
   "metadata": {
    "collapsed": false
   },
   "outputs": [],
   "source": [
    "import gensim, logging\n",
    "logging.basicConfig(format='%(asctime)s : %(levelname)s : %(message)s', level=logging.INFO)\n",
    " \n",
    "# train word2vec on the two sentences\n",
    "model = gensim.models.Word2Vec.load('./corpus/word2vec300_phrase.model')"
   ]
  },
  {
   "cell_type": "code",
   "execution_count": 2,
   "metadata": {
    "collapsed": false
   },
   "outputs": [],
   "source": [
    "phrase = gensim.models.phrases.Phraser.load('corpus/phrase.model')"
   ]
  },
  {
   "cell_type": "code",
   "execution_count": 3,
   "metadata": {
    "collapsed": false
   },
   "outputs": [],
   "source": [
    "competency = {'creativity': 'ability to think in a divergent way, and generate novel ideas.',\n",
    " 'employee_loyalty': 'be committed to the success of the organization and believe that working for this organization is their best option.',\n",
    " 'leadership': 'ability to engage and facilitate others to create a better result.',\n",
    " 'passion': 'desire to provide long-term commitment to their organization, demonstrate peak performance, and maintain increased tenure with the organization. with the intense desire or enthusiasm for the work.',\n",
    " 'people_skills': 'ability to establish social connections and understand the mindset of others.',\n",
    " 'proactivity': 'take the initiative and responsibility in improving business, rather than looking for causes in outside circumstances or other people.',\n",
    " 'reliability': 'ability to performing to perform when needed, finishing projects and meeting deadlines.',\n",
    " 'teamwork': 'ability to adapt to the needs of a group of people, while supporting the work of others.'}"
   ]
  },
  {
   "cell_type": "code",
   "execution_count": 4,
   "metadata": {
    "collapsed": false
   },
   "outputs": [],
   "source": [
    "comps = ['_'.join(c.split()) + ' ' + competency[c] for c in competency]\n",
    "comps = [c.replace('.', '') for c in comps]\n",
    "comps = [c.replace(',', '') for c in comps]\n",
    "comps = [c.split() for c in comps] "
   ]
  },
  {
   "cell_type": "code",
   "execution_count": 5,
   "metadata": {
    "collapsed": false
   },
   "outputs": [
    {
     "name": "stderr",
     "output_type": "stream",
     "text": [
      "/Users/yuliji/Library/Python/2.7/lib/python/site-packages/gensim/models/phrases.py:248: UserWarning: For a faster implementation, use the gensim.models.phrases.Phraser class\n",
      "  warnings.warn(\"For a faster implementation, use the gensim.models.phrases.Phraser class\")\n"
     ]
    }
   ],
   "source": [
    "model.build_vocab(phrase[comps * 5], update=True)"
   ]
  },
  {
   "cell_type": "code",
   "execution_count": 7,
   "metadata": {
    "collapsed": false
   },
   "outputs": [
    {
     "data": {
      "text/plain": [
       "1166"
      ]
     },
     "execution_count": 7,
     "metadata": {},
     "output_type": "execute_result"
    }
   ],
   "source": [
    "model.train(phrase[comps * 5])"
   ]
  },
  {
   "cell_type": "code",
   "execution_count": 8,
   "metadata": {
    "collapsed": false
   },
   "outputs": [
    {
     "data": {
      "text/plain": [
       "[(u'largest', 0.5673831701278687),\n",
       " (u'relatively_small', 0.5399969816207886),\n",
       " (u'very_small', 0.4757996201515198),\n",
       " (u'smallest', 0.45116886496543884),\n",
       " (u'most_important', 0.4464262127876282),\n",
       " (u'second_largest', 0.4444895386695862),\n",
       " (u'worlds_largest', 0.43094953894615173),\n",
       " (u'sizable', 0.4223106801509857),\n",
       " (u'most_impressive', 0.41765397787094116),\n",
       " (u'third_largest', 0.41698721051216125)]"
      ]
     },
     "execution_count": 8,
     "metadata": {},
     "output_type": "execute_result"
    }
   ],
   "source": [
    "model.most_similar(positive=['small', 'biggest'], negative=['big'])"
   ]
  },
  {
   "cell_type": "code",
   "execution_count": 9,
   "metadata": {
    "collapsed": false
   },
   "outputs": [
    {
     "data": {
      "text/plain": [
       "[(u'queen', 0.7234086990356445)]"
      ]
     },
     "execution_count": 9,
     "metadata": {},
     "output_type": "execute_result"
    }
   ],
   "source": [
    "model.most_similar(positive=['woman', 'king'], negative=['man'], topn=1)"
   ]
  },
  {
   "cell_type": "code",
   "execution_count": 10,
   "metadata": {
    "collapsed": false
   },
   "outputs": [
    {
     "data": {
      "text/plain": [
       "'cereal'"
      ]
     },
     "execution_count": 10,
     "metadata": {},
     "output_type": "execute_result"
    }
   ],
   "source": [
    "model.doesnt_match(\"breakfast cereal dinner lunch\".split())"
   ]
  },
  {
   "cell_type": "code",
   "execution_count": 11,
   "metadata": {
    "collapsed": false
   },
   "outputs": [
    {
     "data": {
      "text/plain": [
       "{'charisma': 'able to establish social connections and a broad network',\n",
       " 'confidence': 'acts on his/her own initiative with confidence',\n",
       " 'creativity': 'seeks change and performs creatively',\n",
       " 'entrepreneurial': 'keeps aware of both organizational issues and market opportunities',\n",
       " 'goal_orientated': 'works systematically and drives the project to its goals',\n",
       " 'goal_orientation': 'work systematically and drive the project to the target goals',\n",
       " 'growth_potential': 'growth potential',\n",
       " 'integrity': 'acts with integrity and shows social responsibility',\n",
       " 'intellect': 'flexible application of knowledge to differing contexts',\n",
       " 'job_performance': 'job performance',\n",
       " 'leadership': 'identifies talents empowers and motivates other',\n",
       " 'logic': 'logical thinking and rational analysis',\n",
       " 'organisation': 'sets objectives balances resources and time monitors progress',\n",
       " 'organization': 'sets objectives balances resources and time monitors progress',\n",
       " 'performance': 'job performance',\n",
       " 'proactive': 'proactively deals with ambiguity',\n",
       " 'process_driven': 'demonstrate commitment accountablity follow policies and procedures of the organizations',\n",
       " 'resilient': 'coping and resilient under stressful environment',\n",
       " 'self_motivated': 'work enthusiastically for the achievement of self-development',\n",
       " 'strategic_competency': 'strategic competency',\n",
       " 'strategy': 'foresight for potential problems and comes up with appropriate solutions',\n",
       " 'teamwork': 'adapts to the team; supports others'}"
      ]
     },
     "execution_count": 11,
     "metadata": {},
     "output_type": "execute_result"
    }
   ],
   "source": [
    "new_comp = \"\"\"\n",
    "Charisma\tAble to establish social connections and a broad network\n",
    "Confidence\tActs on his/her own initiative with confidence\n",
    "Creativity\tSeeks change and performs creatively\n",
    "Entrepreneurial\tKeeps aware of both organizational issues and market opportunities\n",
    "Goal Orientated\tWorks systematically and drives the project to its goals\n",
    "Goal Orientation\tWork systematically and drive the project to the target goals\n",
    "Growth Potential\tGrowth Potential\n",
    "Integrity\tActs with integrity and shows social responsibility\n",
    "Intellect\tFlexible application of knowledge to differing contexts\n",
    "Job Performance\tJob Performance\n",
    "Leadership\tIdentifies talents, empowers and motivates other\n",
    "Logic\tLogical thinking and rational analysis\n",
    "Organisation\tSets objectives, balances resources and time, monitors progress\n",
    "Organization\tSets objectives, balances resources and time, monitors progress\n",
    "Performance\tJob Performance\n",
    "Proactive\tProactively deals with ambiguity\n",
    "Process driven\tDemonstrate commitment, accountablity, follow policies and procedures of the organizations\n",
    "Resilient\tCoping and resilient under stressful environment\n",
    "Self motivated\tWork enthusiastically for the achievement of self-development\n",
    "Strategic Competency\tStrategic Competency\n",
    "Strategy\tForesight for potential problems and comes up with appropriate solutions\n",
    "Teamwork\tAdapts to the team; Supports others\n",
    "\"\"\"\n",
    "\n",
    "lines = new_comp.lower().strip().split('\\n')\n",
    "new_comp_dict = {'_'.join(splitted[0].split()) : splitted[1] for splitted in [line.split('\\t') for line in lines]}\n",
    "for c in new_comp_dict:\n",
    "    new_comp_dict[c] = new_comp_dict[c].replace(',', '')\n",
    "new_comp_dict"
   ]
  },
  {
   "cell_type": "code",
   "execution_count": 12,
   "metadata": {
    "collapsed": false
   },
   "outputs": [
    {
     "name": "stdout",
     "output_type": "stream",
     "text": [
      "goal_orientated not in model\n",
      "goal_orientated          \t people_skills       \t 0.608985930915\n",
      "self_motivated not in model\n",
      "self_motivated           \t leadership          \t 0.0948382482061\n",
      "integrity                \t reliability         \t 0.59351816514\n",
      "intellect                \t creativity          \t 0.651332773304\n",
      "confidence               \t leadership          \t 0.478463552197\n",
      "strategic_competency not in model\n",
      "strategic_competency     \t employee_loyalty    \t 0.0882557561828\n",
      "organisation             \t leadership          \t 0.429196664781\n",
      "creativity               \t creativity          \t 1.0\n",
      "strategy                 \t leadership          \t 0.400780704347\n",
      "charisma                 \t creativity          \t 0.558098409027\n",
      "teamwork                 \t teamwork            \t 1.0\n",
      "resilient                \t people_skills       \t 0.230465615685\n",
      "performance              \t reliability         \t 0.526146058371\n",
      "growth_potential not in model\n",
      "growth_potential         \t passion             \t 0.095621397246\n",
      "process_driven not in model\n",
      "process_driven           \t people_skills       \t 0.740323716754\n",
      "leadership               \t leadership          \t 1.0\n",
      "job_performance not in model\n",
      "job_performance          \t passion             \t 0.0455489077064\n",
      "entrepreneurial          \t creativity          \t 0.516288573269\n",
      "logic                    \t reliability         \t 0.371322421476\n",
      "organization             \t leadership          \t 0.465498146336\n",
      "goal_orientation not in model\n",
      "goal_orientation         \t proactivity         \t 0.558465322722\n",
      "proactive                \t teamwork            \t 0.39270955898\n"
     ]
    }
   ],
   "source": [
    "for c in new_comp_dict:\n",
    "    query = '_'.join(c.split())\n",
    "    if query not in model.vocab:\n",
    "        print \"{} not in model\".format(query)\n",
    "        s = [query]\n",
    "        desc = phrase[new_comp_dict[c].split()]\n",
    "        s += desc\n",
    "        # print s\n",
    "        model.build_vocab([s] * 5, update=True)\n",
    "        model.train([s] * 5)\n",
    "    sims = [[model.similarity(query, comp), comp] for comp in competency]\n",
    "    sorted_sims = sorted(sims, key=lambda x: -x[0])\n",
    "    print \"{:25}\\t {:20}\\t {}\".format(query, sorted_sims[0][1], sorted_sims[0][0])"
   ]
  },
  {
   "cell_type": "code",
   "execution_count": 13,
   "metadata": {
    "collapsed": false
   },
   "outputs": [
    {
     "name": "stdout",
     "output_type": "stream",
     "text": [
      "[[0.471397278541965, 'leadership'], [0.37689997721938284, 'creativity'], [0.337109602723831, 'passion'], [0.28781673238724015, 'reliability'], [0.28574592784189501, 'teamwork'], [0.1480052393880355, 'people_skills'], [0.097241763992310742, 'proactivity'], [0.07661057515409922, 'employee_loyalty']]\n",
      "loyalty              leadership           0.471397278542\n"
     ]
    }
   ],
   "source": [
    "query = 'loyalty'\n",
    "if query in model.vocab:\n",
    "    sims = [[model.similarity(query, comp), comp] for comp in competency]\n",
    "    sorted_sims = sorted(sims, key=lambda x: -x[0])\n",
    "    print sorted_sims\n",
    "    print \"{:20} {:20} {}\".format(query, sorted_sims[0][1], sorted_sims[0][0])"
   ]
  },
  {
   "cell_type": "code",
   "execution_count": 14,
   "metadata": {
    "collapsed": false
   },
   "outputs": [
    {
     "data": {
      "text/plain": [
       "0.43684333331137493"
      ]
     },
     "execution_count": 14,
     "metadata": {},
     "output_type": "execute_result"
    }
   ],
   "source": [
    "model.similarity('charisma', 'skills')"
   ]
  },
  {
   "cell_type": "code",
   "execution_count": 15,
   "metadata": {
    "collapsed": false
   },
   "outputs": [
    {
     "data": {
      "text/plain": [
       "[]"
      ]
     },
     "execution_count": 15,
     "metadata": {},
     "output_type": "execute_result"
    }
   ],
   "source": [
    "[comp for comp in competency if comp not in model.vocab]\n"
   ]
  },
  {
   "cell_type": "code",
   "execution_count": 16,
   "metadata": {
    "collapsed": false
   },
   "outputs": [
    {
     "data": {
      "text/plain": [
       "350034"
      ]
     },
     "execution_count": 16,
     "metadata": {},
     "output_type": "execute_result"
    }
   ],
   "source": [
    "len(model.vocab)"
   ]
  },
  {
   "cell_type": "code",
   "execution_count": 17,
   "metadata": {
    "collapsed": false
   },
   "outputs": [
    {
     "data": {
      "text/plain": [
       "[(u'queen', 0.7234086990356445)]"
      ]
     },
     "execution_count": 17,
     "metadata": {},
     "output_type": "execute_result"
    }
   ],
   "source": [
    "model.most_similar(positive=['woman', 'king'], negative=['man'], topn=1)"
   ]
  }
 ],
 "metadata": {
  "kernelspec": {
   "display_name": "Python 2",
   "language": "python",
   "name": "python2"
  },
  "language_info": {
   "codemirror_mode": {
    "name": "ipython",
    "version": 2
   },
   "file_extension": ".py",
   "mimetype": "text/x-python",
   "name": "python",
   "nbconvert_exporter": "python",
   "pygments_lexer": "ipython2",
   "version": "2.7.12"
  }
 },
 "nbformat": 4,
 "nbformat_minor": 0
}
