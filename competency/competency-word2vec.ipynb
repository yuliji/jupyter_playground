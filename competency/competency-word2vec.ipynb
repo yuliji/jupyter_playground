{
 "cells": [
  {
   "cell_type": "code",
   "execution_count": 87,
   "metadata": {
    "collapsed": false
   },
   "outputs": [],
   "source": [
    "import gensim, logging\n",
    "logging.basicConfig(format='%(asctime)s : %(levelname)s : %(message)s', level=logging.INFO)\n",
    " \n",
    "# train word2vec on the two sentences\n",
    "model = gensim.models.Word2Vec.load('./corpus/word2vec300_phrase.model')"
   ]
  },
  {
   "cell_type": "code",
   "execution_count": 5,
   "metadata": {
    "collapsed": true
   },
   "outputs": [],
   "source": [
    "phrase = gensim.models.phrases.Phraser.load('corpus/phrase.model')"
   ]
  },
  {
   "cell_type": "code",
   "execution_count": 118,
   "metadata": {
    "collapsed": false
   },
   "outputs": [],
   "source": [
    "competency = {'creativity': 'ability to think in a divergent way, and generate novel ideas.',\n",
    " 'employee_loyalty': 'be committed to the success of the organization and believe that working for this organization is their best option.',\n",
    " 'leadership': 'ability to engage and facilitate others to create a better result.',\n",
    " 'passion': 'desire to provide long-term commitment to their organization, demonstrate peak performance, and maintain increased tenure with the organization. with the intense desire or enthusiasm for the work.',\n",
    " 'people_skills': 'ability to establish social connections and understand the mindset of others.',\n",
    " 'proactivity': 'take the initiative and responsibility in improving business, rather than looking for causes in outside circumstances or other people.',\n",
    " 'reliability': 'ability to performing to perform when needed, finishing projects and meeting deadlines.',\n",
    " 'teamwork': 'ability to adapt to the needs of a group of people, while supporting the work of others.'}"
   ]
  },
  {
   "cell_type": "code",
   "execution_count": 121,
   "metadata": {
    "collapsed": false
   },
   "outputs": [],
   "source": [
    "comps = ['_'.join(c.split()) + ' ' + competency[c] for c in competency]\n",
    "comps = [c.replace('.', '') for c in comps]\n",
    "comps = [c.replace(',', '') for c in comps]\n",
    "comps = [c.split() for c in comps] "
   ]
  },
  {
   "cell_type": "code",
   "execution_count": 108,
   "metadata": {
    "collapsed": false
   },
   "outputs": [],
   "source": [
    "model.build_vocab(phrase[comps * 5], update=True)"
   ]
  },
  {
   "cell_type": "code",
   "execution_count": 109,
   "metadata": {
    "collapsed": false
   },
   "outputs": [
    {
     "data": {
      "text/plain": [
       "<gensim.models.word2vec.Vocab at 0x12007fed0>"
      ]
     },
     "execution_count": 109,
     "metadata": {},
     "output_type": "execute_result"
    }
   ],
   "source": [
    "model.vocab['people_skills']"
   ]
  },
  {
   "cell_type": "code",
   "execution_count": 110,
   "metadata": {
    "collapsed": false
   },
   "outputs": [
    {
     "data": {
      "text/plain": [
       "238"
      ]
     },
     "execution_count": 110,
     "metadata": {},
     "output_type": "execute_result"
    }
   ],
   "source": [
    "model.train(phrase[comps])"
   ]
  },
  {
   "cell_type": "code",
   "execution_count": 104,
   "metadata": {
    "collapsed": false
   },
   "outputs": [
    {
     "data": {
      "text/plain": [
       "[(u'largest', 0.5673831701278687),\n",
       " (u'relatively_small', 0.5399969816207886),\n",
       " (u'very_small', 0.4757996201515198),\n",
       " (u'smallest', 0.45116886496543884),\n",
       " (u'most_important', 0.4464262127876282),\n",
       " (u'second_largest', 0.4444895386695862),\n",
       " (u'worlds_largest', 0.43094953894615173),\n",
       " (u'sizable', 0.4223106801509857),\n",
       " (u'most_impressive', 0.41765397787094116),\n",
       " (u'third_largest', 0.41698721051216125)]"
      ]
     },
     "execution_count": 104,
     "metadata": {},
     "output_type": "execute_result"
    }
   ],
   "source": [
    "model.most_similar(positive=['small', 'biggest'], negative=['big'])"
   ]
  },
  {
   "cell_type": "code",
   "execution_count": 105,
   "metadata": {
    "collapsed": false
   },
   "outputs": [
    {
     "data": {
      "text/plain": [
       "[(u'queen', 0.7234086990356445)]"
      ]
     },
     "execution_count": 105,
     "metadata": {},
     "output_type": "execute_result"
    }
   ],
   "source": [
    "model.most_similar(positive=['woman', 'king'], negative=['man'], topn=1)"
   ]
  },
  {
   "cell_type": "code",
   "execution_count": 106,
   "metadata": {
    "collapsed": false
   },
   "outputs": [
    {
     "data": {
      "text/plain": [
       "'cereal'"
      ]
     },
     "execution_count": 106,
     "metadata": {},
     "output_type": "execute_result"
    }
   ],
   "source": [
    "model.doesnt_match(\"breakfast cereal dinner lunch\".split())"
   ]
  },
  {
   "cell_type": "code",
   "execution_count": 122,
   "metadata": {
    "collapsed": false
   },
   "outputs": [
    {
     "data": {
      "text/plain": [
       "{'charisma': 'able to establish social connections and a broad network',\n",
       " 'confidence': 'acts on his/her own initiative with confidence',\n",
       " 'creativity': 'seeks change and performs creatively',\n",
       " 'entrepreneurial': 'keeps aware of both organizational issues and market opportunities',\n",
       " 'goal_orientated': 'works systematically and drives the project to its goals',\n",
       " 'goal_orientation': 'work systematically and drive the project to the target goals',\n",
       " 'growth_potential': 'growth potential',\n",
       " 'integrity': 'acts with integrity and shows social responsibility',\n",
       " 'intellect': 'flexible application of knowledge to differing contexts',\n",
       " 'job_performance': 'job performance',\n",
       " 'leadership': 'identifies talents, empowers and motivates other',\n",
       " 'logic': 'logical thinking and rational analysis',\n",
       " 'organisation': 'sets objectives, balances resources and time, monitors progress',\n",
       " 'organization': 'sets objectives, balances resources and time, monitors progress',\n",
       " 'performance': 'job performance',\n",
       " 'proactive': 'proactively deals with ambiguity',\n",
       " 'process_driven': 'demonstrate commitment, accountablity, follow policies and procedures of the organizations',\n",
       " 'resilient': 'coping and resilient under stressful environment',\n",
       " 'self_motivated': 'work enthusiastically for the achievement of self-development',\n",
       " 'strategic_competency': 'strategic competency',\n",
       " 'strategy': 'foresight for potential problems and comes up with appropriate solutions',\n",
       " 'teamwork': 'adapts to the team; supports others'}"
      ]
     },
     "execution_count": 122,
     "metadata": {},
     "output_type": "execute_result"
    }
   ],
   "source": [
    "new_comp = \"\"\"\n",
    "Charisma\tAble to establish social connections and a broad network\n",
    "Confidence\tActs on his/her own initiative with confidence\n",
    "Creativity\tSeeks change and performs creatively\n",
    "Entrepreneurial\tKeeps aware of both organizational issues and market opportunities\n",
    "Goal Orientated\tWorks systematically and drives the project to its goals\n",
    "Goal Orientation\tWork systematically and drive the project to the target goals\n",
    "Growth Potential\tGrowth Potential\n",
    "Integrity\tActs with integrity and shows social responsibility\n",
    "Intellect\tFlexible application of knowledge to differing contexts\n",
    "Job Performance\tJob Performance\n",
    "Leadership\tIdentifies talents, empowers and motivates other\n",
    "Logic\tLogical thinking and rational analysis\n",
    "Organisation\tSets objectives, balances resources and time, monitors progress\n",
    "Organization\tSets objectives, balances resources and time, monitors progress\n",
    "Performance\tJob Performance\n",
    "Proactive\tProactively deals with ambiguity\n",
    "Process driven\tDemonstrate commitment, accountablity, follow policies and procedures of the organizations\n",
    "Resilient\tCoping and resilient under stressful environment\n",
    "Self motivated\tWork enthusiastically for the achievement of self-development\n",
    "Strategic Competency\tStrategic Competency\n",
    "Strategy\tForesight for potential problems and comes up with appropriate solutions\n",
    "Teamwork\tAdapts to the team; Supports others\n",
    "\"\"\"\n",
    "\n",
    "lines = new_comp.lower().strip().split('\\n')\n",
    "new_comp_dict = {'_'.join(splitted[0].split()) : splitted[1] for splitted in [line.split('\\t') for line in lines]}\n",
    "new_comp_dict"
   ]
  },
  {
   "cell_type": "code",
   "execution_count": 152,
   "metadata": {
    "collapsed": false
   },
   "outputs": [
    {
     "name": "stdout",
     "output_type": "stream",
     "text": [
      "integrity            reliability          0.593621694925\n",
      "intellect            creativity           0.648459525098\n",
      "confidence           leadership           0.47931454271\n",
      "organisation         leadership           0.429001785238\n",
      "creativity           creativity           1.0\n",
      "strategy             leadership           0.399325891232\n",
      "charisma             creativity           0.557095223446\n",
      "teamwork             teamwork             1.0\n",
      "resilient            employee_loyalty     0.215783037634\n",
      "performance          reliability          0.525541534545\n",
      "leadership           leadership           1.0\n",
      "entrepreneurial      creativity           0.515718516907\n",
      "logic                reliability          0.369732644906\n",
      "organization         leadership           0.464270309551\n",
      "proactive            teamwork             0.411292124297\n"
     ]
    }
   ],
   "source": [
    "for c in new_comp_dict:\n",
    "    query = '_'.join(c.split())\n",
    "    if query in model.vocab:\n",
    "        sims = [[model.similarity(query, comp), comp] for comp in competency if comp in model.vocab]\n",
    "        # print sims\n",
    "        sorted_sims = sorted(sims, key=lambda x: -x[0])\n",
    "        print \"{:20} {:20} {}\".format(query, sorted_sims[0][1], sorted_sims[0][0])"
   ]
  },
  {
   "cell_type": "code",
   "execution_count": 151,
   "metadata": {
    "collapsed": false
   },
   "outputs": [
    {
     "name": "stdout",
     "output_type": "stream",
     "text": [
      "[[0.50879047986583814, 'reliability'], [0.29113879168929108, 'teamwork'], [0.25837690768052091, 'creativity'], [0.20770002469819376, 'people_skills'], [0.16372290519611771, 'employee_loyalty'], [0.10579239346618238, 'proactivity'], [0.031571963582527167, 'passion'], [0.0022096460824680766, 'leadership']]\n",
      "reliable             reliability          0.508790479866\n"
     ]
    }
   ],
   "source": [
    "query = 'reliable'\n",
    "if query in model.vocab:\n",
    "    sims = [[model.similarity(query, comp), comp] for comp in competency if comp in model.vocab]\n",
    "    sorted_sims = sorted(sims, key=lambda x: -x[0])\n",
    "    print sorted_sims\n",
    "    print \"{:20} {:20} {}\".format(query, sorted_sims[0][1], sorted_sims[0][0])"
   ]
  }
 ],
 "metadata": {
  "kernelspec": {
   "display_name": "Python 2",
   "language": "python",
   "name": "python2"
  },
  "language_info": {
   "codemirror_mode": {
    "name": "ipython",
    "version": 2
   },
   "file_extension": ".py",
   "mimetype": "text/x-python",
   "name": "python",
   "nbconvert_exporter": "python",
   "pygments_lexer": "ipython2",
   "version": "2.7.12"
  }
 },
 "nbformat": 4,
 "nbformat_minor": 0
}
