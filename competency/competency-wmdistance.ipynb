{
 "cells": [
  {
   "cell_type": "code",
   "execution_count": 23,
   "metadata": {
    "collapsed": false
   },
   "outputs": [],
   "source": [
    "import gensim, logging\n",
    "logging.basicConfig(format='%(asctime)s : %(levelname)s : %(message)s', level=logging.INFO)\n",
    "\n",
    "\n",
    " \n",
    "# train word2vec on the two sentences\n",
    "model = gensim.models.Word2Vec.load('./corpus/word2vec300_phrase.model')"
   ]
  },
  {
   "cell_type": "code",
   "execution_count": 22,
   "metadata": {
    "collapsed": false
   },
   "outputs": [],
   "source": [
    "phrase = gensim.models.phrases.Phraser.load('corpus/phrase.model')"
   ]
  },
  {
   "cell_type": "code",
   "execution_count": 24,
   "metadata": {
    "collapsed": false
   },
   "outputs": [],
   "source": [
    "competency = {'creativity': 'ability to think in a divergent way, and generate novel ideas.',\n",
    " 'employee loyalty': 'be committed to the success of the organization and believe that working for this organization is their best option.',\n",
    " 'leadership': 'ability to engage and facilitate others to create a better result.',\n",
    " 'passion': 'desire to provide long-term commitment to their organization, demonstrate peak performance, and maintain increased tenure with the organization. with the intense desire or enthusiasm for the work.',\n",
    " 'people skills': 'ability to establish social connections and understand the mindset of others.',\n",
    " 'proactivity': 'take the initiative and responsibility in improving business, rather than looking for causes in outside circumstances or other people.',\n",
    " 'reliability': 'ability to performing to perform when needed, finishing projects and meeting deadlines.',\n",
    " 'teamwork': 'ability to adapt to the needs of a group of people, while supporting the work of others.'}"
   ]
  },
  {
   "cell_type": "code",
   "execution_count": 56,
   "metadata": {
    "collapsed": false
   },
   "outputs": [
    {
     "data": {
      "text/plain": [
       "[['leadership',\n",
       "  'ability',\n",
       "  'to',\n",
       "  'engage',\n",
       "  'and',\n",
       "  'facilitate',\n",
       "  'others',\n",
       "  'to',\n",
       "  'create',\n",
       "  'a',\n",
       "  'better',\n",
       "  'result'],\n",
       " ['passion',\n",
       "  'desire',\n",
       "  'to',\n",
       "  'provide',\n",
       "  'long-term',\n",
       "  'commitment',\n",
       "  'to',\n",
       "  'their',\n",
       "  'organization',\n",
       "  'demonstrate',\n",
       "  'peak',\n",
       "  'performance',\n",
       "  'and',\n",
       "  'maintain',\n",
       "  'increased',\n",
       "  'tenure',\n",
       "  'with',\n",
       "  'the',\n",
       "  'organization',\n",
       "  'with',\n",
       "  'the',\n",
       "  'intense',\n",
       "  'desire',\n",
       "  'or',\n",
       "  'enthusiasm',\n",
       "  'for',\n",
       "  'the',\n",
       "  'work'],\n",
       " ['teamwork',\n",
       "  'ability',\n",
       "  'to',\n",
       "  'adapt',\n",
       "  'to',\n",
       "  'the',\n",
       "  'needs',\n",
       "  'of',\n",
       "  'a',\n",
       "  'group',\n",
       "  'of',\n",
       "  'people',\n",
       "  'while',\n",
       "  'supporting',\n",
       "  'the',\n",
       "  'work',\n",
       "  'of',\n",
       "  'others'],\n",
       " ['reliability',\n",
       "  'ability',\n",
       "  'to',\n",
       "  'performing',\n",
       "  'to',\n",
       "  'perform',\n",
       "  'when',\n",
       "  'needed',\n",
       "  'finishing',\n",
       "  'projects',\n",
       "  'and',\n",
       "  'meeting',\n",
       "  'deadlines'],\n",
       " ['people_skills',\n",
       "  'ability',\n",
       "  'to',\n",
       "  'establish',\n",
       "  'social',\n",
       "  'connections',\n",
       "  'and',\n",
       "  'understand',\n",
       "  'the',\n",
       "  'mindset',\n",
       "  'of',\n",
       "  'others'],\n",
       " ['employee_loyalty',\n",
       "  'be',\n",
       "  'committed',\n",
       "  'to',\n",
       "  'the',\n",
       "  'success',\n",
       "  'of',\n",
       "  'the',\n",
       "  'organization',\n",
       "  'and',\n",
       "  'believe',\n",
       "  'that',\n",
       "  'working',\n",
       "  'for',\n",
       "  'this',\n",
       "  'organization',\n",
       "  'is',\n",
       "  'their',\n",
       "  'best',\n",
       "  'option'],\n",
       " ['creativity',\n",
       "  'ability',\n",
       "  'to',\n",
       "  'think',\n",
       "  'in',\n",
       "  'a',\n",
       "  'divergent',\n",
       "  'way',\n",
       "  'and',\n",
       "  'generate',\n",
       "  'novel',\n",
       "  'ideas'],\n",
       " ['proactivity',\n",
       "  'take',\n",
       "  'the',\n",
       "  'initiative',\n",
       "  'and',\n",
       "  'responsibility',\n",
       "  'in',\n",
       "  'improving',\n",
       "  'business',\n",
       "  'rather',\n",
       "  'than',\n",
       "  'looking',\n",
       "  'for',\n",
       "  'causes',\n",
       "  'in',\n",
       "  'outside',\n",
       "  'circumstances',\n",
       "  'or',\n",
       "  'other',\n",
       "  'people']]"
      ]
     },
     "execution_count": 56,
     "metadata": {},
     "output_type": "execute_result"
    }
   ],
   "source": [
    "comps = ['_'.join(c.split()) + ' ' + competency[c] for c in competency]\n",
    "comps = [c.replace('.', '') for c in comps]\n",
    "comps = [c.replace(',', '') for c in comps]\n",
    "comps = [c.split() for c in comps] \n",
    "comps"
   ]
  },
  {
   "cell_type": "code",
   "execution_count": 57,
   "metadata": {
    "collapsed": false
   },
   "outputs": [
    {
     "data": {
      "text/plain": [
       "248"
      ]
     },
     "execution_count": 57,
     "metadata": {},
     "output_type": "execute_result"
    }
   ],
   "source": [
    "model.build_vocab(phrase[comps * 5], update=True)\n",
    "model.train(phrase[comps])"
   ]
  },
  {
   "cell_type": "code",
   "execution_count": 25,
   "metadata": {
    "collapsed": false
   },
   "outputs": [
    {
     "data": {
      "text/plain": [
       "{'charisma': 'able to establish social connections and a broad network',\n",
       " 'confidence': 'acts on his/her own initiative with confidence',\n",
       " 'creativity': 'seeks change and performs creatively',\n",
       " 'entrepreneurial': 'keeps aware of both organizational issues and market opportunities',\n",
       " 'goal orientated': 'works systematically and drives the project to its goals',\n",
       " 'goal orientation': 'work systematically and drive the project to the target goals',\n",
       " 'growth potential': 'growth potential',\n",
       " 'integrity': 'acts with integrity and shows social responsibility',\n",
       " 'intellect': 'flexible application of knowledge to differing contexts',\n",
       " 'job performance': 'job performance',\n",
       " 'leadership': 'identifies talents empowers and motivates other',\n",
       " 'logic': 'logical thinking and rational analysis',\n",
       " 'organisation': 'sets objectives balances resources and time monitors progress',\n",
       " 'organization': 'sets objectives balances resources and time monitors progress',\n",
       " 'performance': 'job performance',\n",
       " 'proactive': 'proactively deals with ambiguity',\n",
       " 'process driven': 'demonstrate commitment accountablity follow policies and procedures of the organizations',\n",
       " 'resilient': 'coping and resilient under stressful environment',\n",
       " 'self motivated': 'work enthusiastically for the achievement of self-development',\n",
       " 'strategic competency': 'strategic competency',\n",
       " 'strategy': 'foresight for potential problems and comes up with appropriate solutions',\n",
       " 'teamwork': 'adapts to the team; supports others'}"
      ]
     },
     "execution_count": 25,
     "metadata": {},
     "output_type": "execute_result"
    }
   ],
   "source": [
    "new_comp = \"\"\"\n",
    "Charisma\tAble to establish social connections and a broad network\n",
    "Confidence\tActs on his/her own initiative with confidence\n",
    "Creativity\tSeeks change and performs creatively\n",
    "Entrepreneurial\tKeeps aware of both organizational issues and market opportunities\n",
    "Goal Orientated\tWorks systematically and drives the project to its goals\n",
    "Goal Orientation\tWork systematically and drive the project to the target goals\n",
    "Growth Potential\tGrowth Potential\n",
    "Integrity\tActs with integrity and shows social responsibility\n",
    "Intellect\tFlexible application of knowledge to differing contexts\n",
    "Job Performance\tJob Performance\n",
    "Leadership\tIdentifies talents, empowers and motivates other\n",
    "Logic\tLogical thinking and rational analysis\n",
    "Organisation\tSets objectives, balances resources and time, monitors progress\n",
    "Organization\tSets objectives, balances resources and time, monitors progress\n",
    "Performance\tJob Performance\n",
    "Proactive\tProactively deals with ambiguity\n",
    "Process driven\tDemonstrate commitment, accountablity, follow policies and procedures of the organizations\n",
    "Resilient\tCoping and resilient under stressful environment\n",
    "Self motivated\tWork enthusiastically for the achievement of self-development\n",
    "Strategic Competency\tStrategic Competency\n",
    "Strategy\tForesight for potential problems and comes up with appropriate solutions\n",
    "Teamwork\tAdapts to the team; Supports others\n",
    "\"\"\"\n",
    "\n",
    "lines = new_comp.lower().strip().split('\\n')\n",
    "new_comp_dict = {splitted[0] : splitted[1] for splitted in [line.split('\\t') for line in lines]}\n",
    "for c in new_comp_dict:\n",
    "    new_comp_dict[c] = new_comp_dict[c].replace(',', '')\n",
    "new_comp_dict"
   ]
  },
  {
   "cell_type": "code",
   "execution_count": 65,
   "metadata": {
    "collapsed": false
   },
   "outputs": [
    {
     "name": "stdout",
     "output_type": "stream",
     "text": [
      "strategic competency\tteamwork            \t8.14092422804\n",
      "growth potential    \tcreativity          \t16.7596804409\n",
      "integrity                \treliability         \t0.593463045389\n",
      "intellect                \tcreativity          \t0.648571967405\n",
      "confidence               \tleadership          \t0.47871163808\n",
      "goal orientated     \tproactivity         \t10.2819537665\n",
      "job performance     \tteamwork            \t17.6008174822\n",
      "organisation             \tleadership          \t0.428867019519\n",
      "creativity               \tcreativity          \t1.0\n",
      "self motivated      \tteamwork            \t10.7826624786\n",
      "strategy                 \tleadership          \t0.399676712378\n",
      "charisma                 \tcreativity          \t0.55684917215\n",
      "teamwork                 \tteamwork            \t1.0\n",
      "resilient                \tproactivity         \t0.208003836793\n",
      "performance              \treliability         \t0.521339674564\n",
      "goal orientation    \tteamwork            \t15.3406456839\n",
      "leadership               \tleadership          \t1.0\n",
      "entrepreneurial          \tcreativity          \t0.513243966143\n",
      "logic                    \treliability         \t0.369253996383\n",
      "organization             \tleadership          \t0.464288911814\n",
      "process driven      \tteamwork            \t18.5732351775\n",
      "proactive                \tteamwork            \t0.400276420074\n"
     ]
    }
   ],
   "source": [
    "for nc in new_comp_dict:\n",
    "    query = '_'.join(nc.lower().split())\n",
    "    if query in model.vocab:\n",
    "        sims = [[model.similarity(query, '_'.join(comp.split())), '_'.join(comp.split())] for comp in competency]\n",
    "        sorted_sims = sorted(sims, key=lambda x: -x[0])\n",
    "        print \"{:25}\\t{:20}\\t{}\".format(query, sorted_sims[0][1], sorted_sims[0][0])\n",
    "    \n",
    "    else:\n",
    "        # print nc\n",
    "        query = nc.lower().split()\n",
    "        # print query\n",
    "        sims = [[model.wmdistance(query, c.split()), c] for c in competency]\n",
    "        # print sims\n",
    "        sorted_sims = sorted(sims, key=lambda x: x[0])\n",
    "        #print sorted_sims\n",
    "        print \"{:20}\\t{:20}\\t{}\".format(nc, sorted_sims[0][1], sorted_sims[0][0])"
   ]
  },
  {
   "cell_type": "code",
   "execution_count": 44,
   "metadata": {
    "collapsed": false
   },
   "outputs": [
    {
     "name": "stdout",
     "output_type": "stream",
     "text": [
      "['charisma']\n",
      "[4.844351291656494, 'teamwork']\n"
     ]
    }
   ],
   "source": [
    "query = 'charisma'.split()\n",
    "print query\n",
    "sims = [[model.wmdistance(query, c.split()), c] for c in competency]\n",
    "# print sims\n",
    "sorted_sims = sorted(sims, key=lambda x: x[0])\n",
    "# print sorted_sims\n",
    "print sorted_sims[0]"
   ]
  },
  {
   "cell_type": "code",
   "execution_count": 12,
   "metadata": {
    "collapsed": false
   },
   "outputs": [
    {
     "data": {
      "text/plain": [
       "['leadership']"
      ]
     },
     "execution_count": 12,
     "metadata": {},
     "output_type": "execute_result"
    }
   ],
   "source": [
    "s2 = 'leadership'.split()\n",
    "s2"
   ]
  },
  {
   "cell_type": "code",
   "execution_count": 17,
   "metadata": {
    "collapsed": false
   },
   "outputs": [],
   "source": [
    "distance = model.wmdistance(s1, s2)"
   ]
  },
  {
   "cell_type": "code",
   "execution_count": 19,
   "metadata": {
    "collapsed": false
   },
   "outputs": [
    {
     "data": {
      "text/plain": [
       "19.93280601501465"
      ]
     },
     "execution_count": 19,
     "metadata": {},
     "output_type": "execute_result"
    }
   ],
   "source": [
    "distance"
   ]
  },
  {
   "cell_type": "code",
   "execution_count": 15,
   "metadata": {
    "collapsed": false
   },
   "outputs": [
    {
     "ename": "KeyError",
     "evalue": "'liji'",
     "output_type": "error",
     "traceback": [
      "\u001b[0;31m---------------------------------------------------------------------------\u001b[0m",
      "\u001b[0;31mKeyError\u001b[0m                                  Traceback (most recent call last)",
      "\u001b[0;32m<ipython-input-15-21c99ed70520>\u001b[0m in \u001b[0;36m<module>\u001b[0;34m()\u001b[0m\n\u001b[0;32m----> 1\u001b[0;31m \u001b[0mmodel\u001b[0m\u001b[0;34m[\u001b[0m\u001b[0;34m'liji'\u001b[0m\u001b[0;34m]\u001b[0m\u001b[0;34m\u001b[0m\u001b[0m\n\u001b[0m",
      "\u001b[0;32m/Users/yuliji/Library/Python/2.7/lib/python/site-packages/gensim/models/word2vec.pyc\u001b[0m in \u001b[0;36m__getitem__\u001b[0;34m(self, words)\u001b[0m\n\u001b[1;32m   1576\u001b[0m         \u001b[0;32mif\u001b[0m \u001b[0misinstance\u001b[0m\u001b[0;34m(\u001b[0m\u001b[0mwords\u001b[0m\u001b[0;34m,\u001b[0m \u001b[0mstring_types\u001b[0m\u001b[0;34m)\u001b[0m\u001b[0;34m:\u001b[0m\u001b[0;34m\u001b[0m\u001b[0m\n\u001b[1;32m   1577\u001b[0m             \u001b[0;31m# allow calls like trained_model['office'], as a shorthand for trained_model[['office']]\u001b[0m\u001b[0;34m\u001b[0m\u001b[0;34m\u001b[0m\u001b[0m\n\u001b[0;32m-> 1578\u001b[0;31m             \u001b[0;32mreturn\u001b[0m \u001b[0mself\u001b[0m\u001b[0;34m.\u001b[0m\u001b[0msyn0\u001b[0m\u001b[0;34m[\u001b[0m\u001b[0mself\u001b[0m\u001b[0;34m.\u001b[0m\u001b[0mvocab\u001b[0m\u001b[0;34m[\u001b[0m\u001b[0mwords\u001b[0m\u001b[0;34m]\u001b[0m\u001b[0;34m.\u001b[0m\u001b[0mindex\u001b[0m\u001b[0;34m]\u001b[0m\u001b[0;34m\u001b[0m\u001b[0m\n\u001b[0m\u001b[1;32m   1579\u001b[0m \u001b[0;34m\u001b[0m\u001b[0m\n\u001b[1;32m   1580\u001b[0m         \u001b[0;32mreturn\u001b[0m \u001b[0mvstack\u001b[0m\u001b[0;34m(\u001b[0m\u001b[0;34m[\u001b[0m\u001b[0mself\u001b[0m\u001b[0;34m.\u001b[0m\u001b[0msyn0\u001b[0m\u001b[0;34m[\u001b[0m\u001b[0mself\u001b[0m\u001b[0;34m.\u001b[0m\u001b[0mvocab\u001b[0m\u001b[0;34m[\u001b[0m\u001b[0mword\u001b[0m\u001b[0;34m]\u001b[0m\u001b[0;34m.\u001b[0m\u001b[0mindex\u001b[0m\u001b[0;34m]\u001b[0m \u001b[0;32mfor\u001b[0m \u001b[0mword\u001b[0m \u001b[0;32min\u001b[0m \u001b[0mwords\u001b[0m\u001b[0;34m]\u001b[0m\u001b[0;34m)\u001b[0m\u001b[0;34m\u001b[0m\u001b[0m\n",
      "\u001b[0;31mKeyError\u001b[0m: 'liji'"
     ]
    }
   ],
   "source": [
    "model['liji']"
   ]
  }
 ],
 "metadata": {
  "kernelspec": {
   "display_name": "Python 2",
   "language": "python",
   "name": "python2"
  },
  "language_info": {
   "codemirror_mode": {
    "name": "ipython",
    "version": 2
   },
   "file_extension": ".py",
   "mimetype": "text/x-python",
   "name": "python",
   "nbconvert_exporter": "python",
   "pygments_lexer": "ipython2",
   "version": "2.7.12"
  }
 },
 "nbformat": 4,
 "nbformat_minor": 0
}
